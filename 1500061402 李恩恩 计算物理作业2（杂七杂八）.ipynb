{
 "cells": [
  {
   "cell_type": "code",
   "execution_count": 3,
   "metadata": {},
   "outputs": [
    {
     "ename": "ModuleNotFoundError",
     "evalue": "No module named 'urllib2'",
     "output_type": "error",
     "traceback": [
      "\u001b[1;31m---------------------------------------------------------------------------\u001b[0m",
      "\u001b[1;31mModuleNotFoundError\u001b[0m                       Traceback (most recent call last)",
      "\u001b[1;32m<ipython-input-3-04fa00bf1932>\u001b[0m in \u001b[0;36m<module>\u001b[1;34m()\u001b[0m\n\u001b[1;32m----> 1\u001b[1;33m \u001b[1;32mimport\u001b[0m \u001b[0murllib2\u001b[0m\u001b[1;33m\u001b[0m\u001b[0m\n\u001b[0m\u001b[0;32m      2\u001b[0m \u001b[0mrest\u001b[0m\u001b[1;33m=\u001b[0m\u001b[0murllib2\u001b[0m\u001b[1;33m.\u001b[0m\u001b[0murlopen\u001b[0m\u001b[1;33m(\u001b[0m\u001b[1;34m\"https://www.google.com.hk/search?q=%E5%8D%9A%E5%AE%A2&oq=%E5%8D%9A%E5%AE%A2&aqs=chrome..69i57j69i61l3j0l2.2541j0j4&sourceid=chrome&ie=UTF-8\"\u001b[0m\u001b[1;33m)\u001b[0m\u001b[1;33m\u001b[0m\u001b[0m\n\u001b[0;32m      3\u001b[0m \u001b[0mret\u001b[0m\u001b[1;33m=\u001b[0m\u001b[0mrest\u001b[0m\u001b[1;33m.\u001b[0m\u001b[0mread\u001b[0m\u001b[1;33m(\u001b[0m\u001b[1;33m)\u001b[0m\u001b[1;33m\u001b[0m\u001b[0m\n\u001b[0;32m      4\u001b[0m \u001b[0mret\u001b[0m\u001b[1;33m\u001b[0m\u001b[0m\n",
      "\u001b[1;31mModuleNotFoundError\u001b[0m: No module named 'urllib2'"
     ]
    }
   ],
   "source": [
    "import urllib2\n",
    "rest=urllib2.urlopen(\"https://www.google.com.hk/search?q=%E5%8D%9A%E5%AE%A2&oq=%E5%8D%9A%E5%AE%A2&aqs=chrome..69i57j69i61l3j0l2.2541j0j4&sourceid=chrome&ie=UTF-8\")\n",
    "ret=rest.read()\n",
    "ret\n"
   ]
  },
  {
   "cell_type": "code",
   "execution_count": 4,
   "metadata": {},
   "outputs": [
    {
     "ename": "NameError",
     "evalue": "name 'python' is not defined",
     "output_type": "error",
     "traceback": [
      "\u001b[1;31m---------------------------------------------------------------------------\u001b[0m",
      "\u001b[1;31mNameError\u001b[0m                                 Traceback (most recent call last)",
      "\u001b[1;32m<ipython-input-4-32886514c262>\u001b[0m in \u001b[0;36m<module>\u001b[1;34m()\u001b[0m\n\u001b[1;32m----> 1\u001b[1;33m \u001b[0mpython\u001b[0m\u001b[1;33m\u001b[0m\u001b[0m\n\u001b[0m",
      "\u001b[1;31mNameError\u001b[0m: name 'python' is not defined"
     ]
    }
   ],
   "source": [
    "python"
   ]
  },
  {
   "cell_type": "markdown",
   "metadata": {},
   "source": [
    "神奇的爬虫！"
   ]
  },
  {
   "cell_type": "code",
   "execution_count": 5,
   "metadata": {},
   "outputs": [
    {
     "name": "stdout",
     "output_type": "stream",
     "text": [
      "please enter your name:lienen\n",
      "hello, lienen\n"
     ]
    }
   ],
   "source": [
    "name=input(\"please enter your name:\")\n",
    "print(\"hello,\",name)"
   ]
  },
  {
   "cell_type": "code",
   "execution_count": 6,
   "metadata": {},
   "outputs": [
    {
     "name": "stdout",
     "output_type": "stream",
     "text": [
      "786432\n"
     ]
    }
   ],
   "source": [
    "print(1024*768)"
   ]
  },
  {
   "cell_type": "code",
   "execution_count": 40,
   "metadata": {},
   "outputs": [
    {
     "name": "stdout",
     "output_type": "stream",
     "text": [
      "2\t4\t6\t8\t10\t12\t14\t16\t18\t20\t22\t24\t26\t28\t30\t32\t34\t36\t38\t40\t42\t44\t46\t48\t50\t52\t54\t56\t58\t60\t62\t64\t66\t68\t70\t72\t74\t76\t78\t80\t82\t84\t86\t88\t90\t92\t94\t96\t98\t100\t"
     ]
    }
   ],
   "source": [
    "#输出1到100以内的偶数\n",
    "def juge(x):\n",
    "    if x%2!=0:\n",
    "        return False\n",
    "    else:\n",
    "        return True\n",
    "for i in range(1,101):\n",
    "    if juge(i):\n",
    "        print(i,end=\"\\t\")   "
   ]
  },
  {
   "cell_type": "code",
   "execution_count": 49,
   "metadata": {},
   "outputs": [
    {
     "data": {
      "text/plain": [
       "'hello,lisa'"
      ]
     },
     "execution_count": 49,
     "metadata": {},
     "output_type": "execute_result"
    }
   ],
   "source": [
    "n=123\n",
    "f=456.789\n",
    "s1='hello,world'\n",
    "s2='hello,\\'Adam\\''\n",
    "s3=r'''hello,lisa'''\n",
    "s3\n"
   ]
  },
  {
   "cell_type": "code",
   "execution_count": 53,
   "metadata": {},
   "outputs": [
    {
     "data": {
      "text/plain": [
       "23478"
      ]
     },
     "execution_count": 53,
     "metadata": {},
     "output_type": "execute_result"
    }
   ],
   "source": [
    "ord(\"家\")\n",
    "\n"
   ]
  },
  {
   "cell_type": "code",
   "execution_count": 55,
   "metadata": {},
   "outputs": [
    {
     "data": {
      "text/plain": [
       "'z'"
      ]
     },
     "execution_count": 55,
     "metadata": {},
     "output_type": "execute_result"
    }
   ],
   "source": [
    "chr(122)"
   ]
  },
  {
   "cell_type": "markdown",
   "metadata": {},
   "source": [
    "ASCII码,UTF-8,Unicode"
   ]
  },
  {
   "cell_type": "code",
   "execution_count": 57,
   "metadata": {},
   "outputs": [
    {
     "data": {
      "text/plain": [
       "b'\\xe4\\xb8\\xad\\xe6\\x96\\x87'"
      ]
     },
     "execution_count": 57,
     "metadata": {},
     "output_type": "execute_result"
    }
   ],
   "source": [
    "'中文'.encode('utf-8')"
   ]
  },
  {
   "cell_type": "code",
   "execution_count": 58,
   "metadata": {},
   "outputs": [
    {
     "data": {
      "text/plain": [
       "'中文'"
      ]
     },
     "execution_count": 58,
     "metadata": {},
     "output_type": "execute_result"
    }
   ],
   "source": [
    "b'\\xe4\\xb8\\xad\\xe6\\x96\\x87'.decode('utf-8')"
   ]
  },
  {
   "cell_type": "code",
   "execution_count": 59,
   "metadata": {},
   "outputs": [
    {
     "data": {
      "text/plain": [
       "8"
      ]
     },
     "execution_count": 59,
     "metadata": {},
     "output_type": "execute_result"
    }
   ],
   "source": [
    "len('zhongwen')"
   ]
  },
  {
   "cell_type": "code",
   "execution_count": 60,
   "metadata": {},
   "outputs": [
    {
     "data": {
      "text/plain": [
       "2"
      ]
     },
     "execution_count": 60,
     "metadata": {},
     "output_type": "execute_result"
    }
   ],
   "source": [
    "len(\"中文\")"
   ]
  },
  {
   "cell_type": "markdown",
   "metadata": {},
   "source": [
    "格式化输出字符串"
   ]
  },
  {
   "cell_type": "code",
   "execution_count": 61,
   "metadata": {},
   "outputs": [
    {
     "data": {
      "text/plain": [
       "'hello,world'"
      ]
     },
     "execution_count": 61,
     "metadata": {},
     "output_type": "execute_result"
    }
   ],
   "source": [
    "'hello,%s'%'world'\n"
   ]
  },
  {
   "cell_type": "code",
   "execution_count": 66,
   "metadata": {},
   "outputs": [
    {
     "data": {
      "text/plain": [
       "'Hi! Lily do you remmber me? The boy who owed you $1000 two yesrs ago!'"
      ]
     },
     "execution_count": 66,
     "metadata": {},
     "output_type": "execute_result"
    }
   ],
   "source": [
    "'Hi! %s do you remmber me? The boy who owed you $%d two yesrs ago!'%('Lily',1000)"
   ]
  },
  {
   "cell_type": "markdown",
   "metadata": {},
   "source": [
    "常见的占位符:\n",
    "\n",
    "\n",
    "%d    整数\n",
    "\n",
    "\n",
    "%f    浮点数\n",
    "\n",
    "\n",
    "%s    字符串\n",
    "\n",
    "\n",
    "%x    十六进制数\n",
    "\n",
    "\n",
    "%s可以把任何数据类型转换为字符串"
   ]
  },
  {
   "cell_type": "code",
   "execution_count": 69,
   "metadata": {},
   "outputs": [
    {
     "data": {
      "text/plain": [
       "'1%'"
      ]
     },
     "execution_count": 69,
     "metadata": {},
     "output_type": "execute_result"
    }
   ],
   "source": [
    "'%d%%'%1"
   ]
  },
  {
   "cell_type": "code",
   "execution_count": 77,
   "metadata": {},
   "outputs": [
    {
     "data": {
      "text/plain": [
       "'hello!Lily你得了$1000.1奖金'"
      ]
     },
     "execution_count": 77,
     "metadata": {},
     "output_type": "execute_result"
    }
   ],
   "source": [
    "'hello!{0}你得了${1:.1f}奖金'.format('Lily',1000.125)"
   ]
  },
  {
   "cell_type": "code",
   "execution_count": 78,
   "metadata": {},
   "outputs": [
    {
     "data": {
      "text/plain": [
       "['hjs', 'lee', 'zjf', 'lsn', 'lyh', 'zph', 'ywb', 'zzc']"
      ]
     },
     "execution_count": 78,
     "metadata": {},
     "output_type": "execute_result"
    }
   ],
   "source": [
    "#数据结构list witch means 列表 有序集合、可更改\n",
    "siban=['hjs','lee','zjf','lsn','lyh','zph','ywb','zzc']\n",
    "siban"
   ]
  },
  {
   "cell_type": "code",
   "execution_count": 80,
   "metadata": {},
   "outputs": [
    {
     "data": {
      "text/plain": [
       "'lee'"
      ]
     },
     "execution_count": 80,
     "metadata": {},
     "output_type": "execute_result"
    }
   ],
   "source": [
    "siban[1]"
   ]
  },
  {
   "cell_type": "code",
   "execution_count": 81,
   "metadata": {},
   "outputs": [
    {
     "data": {
      "text/plain": [
       "8"
      ]
     },
     "execution_count": 81,
     "metadata": {},
     "output_type": "execute_result"
    }
   ],
   "source": [
    "len(siban)"
   ]
  },
  {
   "cell_type": "code",
   "execution_count": 83,
   "metadata": {},
   "outputs": [
    {
     "data": {
      "text/plain": [
       "'lee'"
      ]
     },
     "execution_count": 83,
     "metadata": {},
     "output_type": "execute_result"
    }
   ],
   "source": [
    "siban[-7]"
   ]
  },
  {
   "cell_type": "code",
   "execution_count": 84,
   "metadata": {},
   "outputs": [
    {
     "data": {
      "text/plain": [
       "'hjs'"
      ]
     },
     "execution_count": 84,
     "metadata": {},
     "output_type": "execute_result"
    }
   ],
   "source": [
    "siban[-8]"
   ]
  },
  {
   "cell_type": "code",
   "execution_count": 85,
   "metadata": {},
   "outputs": [
    {
     "data": {
      "text/plain": [
       "['hjs', 'lee', 'zjf', 'lsn', 'lyh', 'zph', 'ywb', 'zzc', 'girl']"
      ]
     },
     "execution_count": 85,
     "metadata": {},
     "output_type": "execute_result"
    }
   ],
   "source": [
    "siban.append('girl')\n",
    "siban"
   ]
  },
  {
   "cell_type": "code",
   "execution_count": 86,
   "metadata": {},
   "outputs": [
    {
     "data": {
      "text/plain": [
       "'girl'"
      ]
     },
     "execution_count": 86,
     "metadata": {},
     "output_type": "execute_result"
    }
   ],
   "source": [
    "siban.pop(8)"
   ]
  },
  {
   "cell_type": "code",
   "execution_count": 88,
   "metadata": {},
   "outputs": [
    {
     "data": {
      "text/plain": [
       "['hjs', 'lee', 'zjf', 'lsn', 'lyh', 'zph', 'ywb', 'zzc']"
      ]
     },
     "execution_count": 88,
     "metadata": {},
     "output_type": "execute_result"
    }
   ],
   "source": [
    "siban"
   ]
  },
  {
   "cell_type": "code",
   "execution_count": 89,
   "metadata": {},
   "outputs": [
    {
     "data": {
      "text/plain": [
       "['hjs', 'lee', 'zjf', 'lsn', 'lyh', 'zph', 'ywb', 'zzc', 'girl']"
      ]
     },
     "execution_count": 89,
     "metadata": {},
     "output_type": "execute_result"
    }
   ],
   "source": [
    "siban.append('girl')\n",
    "siban"
   ]
  },
  {
   "cell_type": "code",
   "execution_count": 91,
   "metadata": {},
   "outputs": [
    {
     "ename": "TypeError",
     "evalue": "'str' object cannot be interpreted as an integer",
     "output_type": "error",
     "traceback": [
      "\u001b[1;31m---------------------------------------------------------------------------\u001b[0m",
      "\u001b[1;31mTypeError\u001b[0m                                 Traceback (most recent call last)",
      "\u001b[1;32m<ipython-input-91-0f3fb5322714>\u001b[0m in \u001b[0;36m<module>\u001b[1;34m()\u001b[0m\n\u001b[1;32m----> 1\u001b[1;33m \u001b[0msiban\u001b[0m\u001b[1;33m.\u001b[0m\u001b[0mpop\u001b[0m\u001b[1;33m(\u001b[0m\u001b[1;34m'girl'\u001b[0m\u001b[1;33m)\u001b[0m\u001b[1;33m\u001b[0m\u001b[0m\n\u001b[0m\u001b[0;32m      2\u001b[0m \u001b[0msiban\u001b[0m\u001b[1;33m\u001b[0m\u001b[0m\n",
      "\u001b[1;31mTypeError\u001b[0m: 'str' object cannot be interpreted as an integer"
     ]
    }
   ],
   "source": [
    "siban.pop('girl')\n",
    "siban"
   ]
  },
  {
   "cell_type": "code",
   "execution_count": 92,
   "metadata": {},
   "outputs": [
    {
     "data": {
      "text/plain": [
       "['hjs', 'lee', 'zjf', 'lsn', 'lyh', 'zph', 'ywb', 'zzc', 'jy']"
      ]
     },
     "execution_count": 92,
     "metadata": {},
     "output_type": "execute_result"
    }
   ],
   "source": [
    "siban[8]='jy'\n",
    "siban"
   ]
  },
  {
   "cell_type": "code",
   "execution_count": 93,
   "metadata": {},
   "outputs": [
    {
     "data": {
      "text/plain": [
       "0"
      ]
     },
     "execution_count": 93,
     "metadata": {},
     "output_type": "execute_result"
    }
   ],
   "source": [
    "l=[]\n",
    "len(l)"
   ]
  },
  {
   "cell_type": "code",
   "execution_count": 95,
   "metadata": {},
   "outputs": [
    {
     "data": {
      "text/plain": [
       "['hjs', 'lee', 'zjf', 'lsn', 'lyh', 'zph', 'ywb', 'zzc', 'girls', 'jy']"
      ]
     },
     "execution_count": 95,
     "metadata": {},
     "output_type": "execute_result"
    }
   ],
   "source": [
    "siban.insert(8,'girls')\n",
    "siban"
   ]
  },
  {
   "cell_type": "code",
   "execution_count": 96,
   "metadata": {},
   "outputs": [
    {
     "ename": "TypeError",
     "evalue": "'tuple' object is not callable",
     "output_type": "error",
     "traceback": [
      "\u001b[1;31m---------------------------------------------------------------------------\u001b[0m",
      "\u001b[1;31mTypeError\u001b[0m                                 Traceback (most recent call last)",
      "\u001b[1;32m<ipython-input-96-46ce91707ffb>\u001b[0m in \u001b[0;36m<module>\u001b[1;34m()\u001b[0m\n\u001b[0;32m      1\u001b[0m \u001b[1;31m#tuple which means 元组 不可更改\u001b[0m\u001b[1;33m\u001b[0m\u001b[1;33m\u001b[0m\u001b[0m\n\u001b[0;32m      2\u001b[0m \u001b[0msiban\u001b[0m\u001b[1;33m=\u001b[0m\u001b[1;33m(\u001b[0m\u001b[1;34m'hjs'\u001b[0m\u001b[1;33m,\u001b[0m \u001b[1;34m'lee'\u001b[0m\u001b[1;33m,\u001b[0m \u001b[1;34m'zjf'\u001b[0m\u001b[1;33m,\u001b[0m \u001b[1;34m'lsn'\u001b[0m\u001b[1;33m,\u001b[0m \u001b[1;34m'lyh'\u001b[0m\u001b[1;33m,\u001b[0m \u001b[1;34m'zph'\u001b[0m\u001b[1;33m,\u001b[0m \u001b[1;34m'ywb'\u001b[0m\u001b[1;33m,\u001b[0m \u001b[1;34m'zzc'\u001b[0m\u001b[1;33m)\u001b[0m\u001b[1;33m\u001b[0m\u001b[0m\n\u001b[1;32m----> 3\u001b[1;33m \u001b[0msiban\u001b[0m\u001b[1;33m(\u001b[0m\u001b[1;33m-\u001b[0m\u001b[1;36m1\u001b[0m\u001b[1;33m)\u001b[0m\u001b[1;33m\u001b[0m\u001b[0m\n\u001b[0m\u001b[0;32m      4\u001b[0m \u001b[1;33m\u001b[0m\u001b[0m\n",
      "\u001b[1;31mTypeError\u001b[0m: 'tuple' object is not callable"
     ]
    }
   ],
   "source": [
    "#tuple which means 元组 不可更改\n",
    "siban=('hjs', 'lee', 'zjf', 'lsn', 'lyh', 'zph', 'ywb', 'zzc')\n",
    "siban(-1)"
   ]
  },
  {
   "cell_type": "code",
   "execution_count": 97,
   "metadata": {},
   "outputs": [
    {
     "ename": "TypeError",
     "evalue": "'tuple' object is not callable",
     "output_type": "error",
     "traceback": [
      "\u001b[1;31m---------------------------------------------------------------------------\u001b[0m",
      "\u001b[1;31mTypeError\u001b[0m                                 Traceback (most recent call last)",
      "\u001b[1;32m<ipython-input-97-aa28bc4aa221>\u001b[0m in \u001b[0;36m<module>\u001b[1;34m()\u001b[0m\n\u001b[1;32m----> 1\u001b[1;33m \u001b[0msiban\u001b[0m\u001b[1;33m(\u001b[0m\u001b[1;36m1\u001b[0m\u001b[1;33m)\u001b[0m\u001b[1;33m\u001b[0m\u001b[0m\n\u001b[0m",
      "\u001b[1;31mTypeError\u001b[0m: 'tuple' object is not callable"
     ]
    }
   ],
   "source": [
    "siban(1)"
   ]
  },
  {
   "cell_type": "code",
   "execution_count": 98,
   "metadata": {},
   "outputs": [
    {
     "data": {
      "text/plain": [
       "'zzc'"
      ]
     },
     "execution_count": 98,
     "metadata": {},
     "output_type": "execute_result"
    }
   ],
   "source": [
    "siban[-1]"
   ]
  },
  {
   "cell_type": "code",
   "execution_count": 108,
   "metadata": {},
   "outputs": [
    {
     "name": "stdout",
     "output_type": "stream",
     "text": [
      "ypur age is 3\n",
      "navie!\n"
     ]
    }
   ],
   "source": [
    "age=3\n",
    "if age>=18:\n",
    "    print('your age is',age)\n",
    "    print('adult!')\n",
    "elif age>=12:\n",
    "    print('your age is',age)\n",
    "    print('teenager!')\n",
    "else:\n",
    "    print('ypur age is',age)\n",
    "    print('navie!')"
   ]
  },
  {
   "cell_type": "code",
   "execution_count": 110,
   "metadata": {},
   "outputs": [
    {
     "name": "stdout",
     "output_type": "stream",
     "text": [
      "birth:1996\n"
     ]
    },
    {
     "ename": "TypeError",
     "evalue": "'<' not supported between instances of 'str' and 'int'",
     "output_type": "error",
     "traceback": [
      "\u001b[1;31m---------------------------------------------------------------------------\u001b[0m",
      "\u001b[1;31mTypeError\u001b[0m                                 Traceback (most recent call last)",
      "\u001b[1;32m<ipython-input-110-354f42558002>\u001b[0m in \u001b[0;36m<module>\u001b[1;34m()\u001b[0m\n\u001b[0;32m      1\u001b[0m \u001b[0mbirth\u001b[0m\u001b[1;33m=\u001b[0m\u001b[0minput\u001b[0m\u001b[1;33m(\u001b[0m\u001b[1;34m'birth:'\u001b[0m\u001b[1;33m)\u001b[0m\u001b[1;33m\u001b[0m\u001b[0m\n\u001b[1;32m----> 2\u001b[1;33m \u001b[1;32mif\u001b[0m \u001b[0mbirth\u001b[0m \u001b[1;33m<\u001b[0m \u001b[1;36m2000\u001b[0m\u001b[1;33m:\u001b[0m\u001b[1;33m\u001b[0m\u001b[0m\n\u001b[0m\u001b[0;32m      3\u001b[0m     \u001b[0mprint\u001b[0m\u001b[1;33m(\u001b[0m\u001b[1;34m'00前'\u001b[0m\u001b[1;33m)\u001b[0m\u001b[1;33m\u001b[0m\u001b[0m\n\u001b[0;32m      4\u001b[0m \u001b[1;32melse\u001b[0m\u001b[1;33m:\u001b[0m\u001b[1;33m\u001b[0m\u001b[0m\n\u001b[0;32m      5\u001b[0m     \u001b[0mprint\u001b[0m\u001b[1;33m(\u001b[0m\u001b[1;34m'00后'\u001b[0m\u001b[1;33m)\u001b[0m\u001b[1;33m\u001b[0m\u001b[0m\n",
      "\u001b[1;31mTypeError\u001b[0m: '<' not supported between instances of 'str' and 'int'"
     ]
    }
   ],
   "source": [
    "birth=input('birth:')\n",
    "if birth < 2000:\n",
    "    print('00前')\n",
    "else:\n",
    "    print('00后')"
   ]
  },
  {
   "cell_type": "code",
   "execution_count": 111,
   "metadata": {},
   "outputs": [
    {
     "name": "stdout",
     "output_type": "stream",
     "text": [
      "birth:1996\n",
      "00前\n"
     ]
    }
   ],
   "source": [
    "s=input('birth:')\n",
    "birth=int(s)\n",
    "if birth < 2000:\n",
    "    print('00前')\n",
    "else:\n",
    "    print('00后')"
   ]
  },
  {
   "cell_type": "code",
   "execution_count": 115,
   "metadata": {},
   "outputs": [
    {
     "name": "stdout",
     "output_type": "stream",
     "text": [
      "hjs  lee  zjf  lsn  lyh  zph  ywb  zzc  "
     ]
    }
   ],
   "source": [
    "#循环\n",
    "#for……in\n",
    "siban=['hjs', 'lee', 'zjf', 'lsn', 'lyh', 'zph', 'ywb', 'zzc']\n",
    "for name in siban:\n",
    "    print(name,end='  ')"
   ]
  },
  {
   "cell_type": "code",
   "execution_count": 121,
   "metadata": {},
   "outputs": [
    {
     "name": "stdout",
     "output_type": "stream",
     "text": [
      "5050\n"
     ]
    }
   ],
   "source": [
    "sum=0\n",
    "for x in range(101):\n",
    "    sum+=x\n",
    "print(sum)"
   ]
  },
  {
   "cell_type": "code",
   "execution_count": 123,
   "metadata": {},
   "outputs": [
    {
     "name": "stdout",
     "output_type": "stream",
     "text": [
      "1\t2\t3\t4\t5\t6\t7\t8\t9\t10\t11\t12\t13\t14\t15\t16\t17\t18\t19\t20\t21\t22\t23\t24\t25\t26\t27\t28\t29\t30\t31\t32\t33\t34\t35\t36\t37\t38\t39\t40\t41\t42\t43\t44\t45\t46\t47\t48\t49\t50\t51\t52\t53\t54\t55\t56\t57\t58\t59\t60\t61\t62\t63\t64\t65\t66\t67\t68\t69\t70\t71\t72\t73\t74\t75\t76\t77\t78\t79\t80\t81\t82\t83\t84\t85\t86\t87\t88\t89\t90\t91\t92\t93\t94\t95\t96\t97\t98\t99\t100\tend\n"
     ]
    }
   ],
   "source": [
    "n=1\n",
    "while n<=100:\n",
    "    print(n,end='\\t')\n",
    "    n+=1#为 Python、Ruby 等语言弃用了自增运(i++,i- -)算符.\n",
    "print('end')"
   ]
  },
  {
   "cell_type": "code",
   "execution_count": 125,
   "metadata": {},
   "outputs": [
    {
     "name": "stdout",
     "output_type": "stream",
     "text": [
      "1\t2\t3\t4\t5\t6\t7\t8\t9\t10\t11\t12\t13\t14\t15\t16\t17\t18\t19\t20\t21\t22\t23\t24\t25\t26\t27\t28\t29\t30\t31\t32\t33\t34\t35\t36\t37\t38\t39\t40\t41\t42\t43\t44\t45\t46\t47\t48\t49\t50\tend\n"
     ]
    }
   ],
   "source": [
    "i=1\n",
    "while i<=100:\n",
    "    if i>50:\n",
    "        break\n",
    "    print(i,end='\\t')\n",
    "    i=i+1\n",
    "print('end')"
   ]
  },
  {
   "cell_type": "code",
   "execution_count": 127,
   "metadata": {},
   "outputs": [
    {
     "name": "stdout",
     "output_type": "stream",
     "text": [
      "2\n",
      "4\n",
      "6\n",
      "8\n",
      "10\n"
     ]
    }
   ],
   "source": [
    "m=0\n",
    "while m<10:\n",
    "    m=m+1\n",
    "    if m%2!=0:\n",
    "        continue#continue语句会继续下一轮内循环，后续的print语句不会执行.\n",
    "    print(m)"
   ]
  },
  {
   "cell_type": "code",
   "execution_count": 128,
   "metadata": {},
   "outputs": [
    {
     "data": {
      "text/plain": [
       "'lee'"
      ]
     },
     "execution_count": 128,
     "metadata": {},
     "output_type": "execute_result"
    }
   ],
   "source": [
    "#dict字典，其他语言可能会被成为map，使用key-value存储,查找速度极快，而list要先找到对应位置\n",
    "siban={61401:'hjs', 61402:'lee', 61403:'zjf', 61404:'lsn',61405: 'lyh', 61406:'zph',61407: 'ywb',61408:'zzc'}\n",
    "siban[61402]"
   ]
  },
  {
   "cell_type": "code",
   "execution_count": 129,
   "metadata": {},
   "outputs": [
    {
     "data": {
      "text/plain": [
       "{9: 'girls',\n",
       " 61401: 'hjs',\n",
       " 61402: 'lee',\n",
       " 61403: 'zjf',\n",
       " 61404: 'lsn',\n",
       " 61405: 'lyh',\n",
       " 61406: 'zph',\n",
       " 61407: 'ywb',\n",
       " 61408: 'zzc'}"
      ]
     },
     "execution_count": 129,
     "metadata": {},
     "output_type": "execute_result"
    }
   ],
   "source": [
    "siban[9]='girls'\n",
    "siban"
   ]
  },
  {
   "cell_type": "code",
   "execution_count": 130,
   "metadata": {},
   "outputs": [
    {
     "ename": "KeyError",
     "evalue": "6",
     "output_type": "error",
     "traceback": [
      "\u001b[1;31m---------------------------------------------------------------------------\u001b[0m",
      "\u001b[1;31mKeyError\u001b[0m                                  Traceback (most recent call last)",
      "\u001b[1;32m<ipython-input-130-c3bd6d3be0b5>\u001b[0m in \u001b[0;36m<module>\u001b[1;34m()\u001b[0m\n\u001b[1;32m----> 1\u001b[1;33m \u001b[0msiban\u001b[0m\u001b[1;33m[\u001b[0m\u001b[1;36m6\u001b[0m\u001b[1;33m]\u001b[0m\u001b[1;33m\u001b[0m\u001b[0m\n\u001b[0m",
      "\u001b[1;31mKeyError\u001b[0m: 6"
     ]
    }
   ],
   "source": [
    "siban[6]"
   ]
  },
  {
   "cell_type": "code",
   "execution_count": 131,
   "metadata": {},
   "outputs": [
    {
     "data": {
      "text/plain": [
       "-1"
      ]
     },
     "execution_count": 131,
     "metadata": {},
     "output_type": "execute_result"
    }
   ],
   "source": [
    "siban.get(6,-1)"
   ]
  },
  {
   "cell_type": "code",
   "execution_count": 132,
   "metadata": {},
   "outputs": [
    {
     "data": {
      "text/plain": [
       "'lee'"
      ]
     },
     "execution_count": 132,
     "metadata": {},
     "output_type": "execute_result"
    }
   ],
   "source": [
    "siban.get(61402,-1)"
   ]
  },
  {
   "cell_type": "code",
   "execution_count": 133,
   "metadata": {},
   "outputs": [
    {
     "data": {
      "text/plain": [
       "{61401: 'hjs',\n",
       " 61402: 'lee',\n",
       " 61403: 'zjf',\n",
       " 61404: 'lsn',\n",
       " 61405: 'lyh',\n",
       " 61406: 'zph',\n",
       " 61407: 'ywb',\n",
       " 61408: 'zzc'}"
      ]
     },
     "execution_count": 133,
     "metadata": {},
     "output_type": "execute_result"
    }
   ],
   "source": [
    "siban.pop(9)\n",
    "siban"
   ]
  },
  {
   "cell_type": "code",
   "execution_count": 135,
   "metadata": {},
   "outputs": [
    {
     "data": {
      "text/plain": [
       "{9: 'girls',\n",
       " 61401: 'hjs',\n",
       " 61402: 'lee',\n",
       " 61403: 'zjf',\n",
       " 61404: 'lsn',\n",
       " 61405: 'lyh',\n",
       " 61406: 'zph',\n",
       " 61407: 'ywb',\n",
       " 61408: 'zzc'}"
      ]
     },
     "execution_count": 135,
     "metadata": {},
     "output_type": "execute_result"
    }
   ],
   "source": [
    "siban[9]='girls'\n",
    "siban"
   ]
  },
  {
   "cell_type": "code",
   "execution_count": 136,
   "metadata": {},
   "outputs": [
    {
     "ename": "TypeError",
     "evalue": "'str' object is not callable",
     "output_type": "error",
     "traceback": [
      "\u001b[1;31m---------------------------------------------------------------------------\u001b[0m",
      "\u001b[1;31mTypeError\u001b[0m                                 Traceback (most recent call last)",
      "\u001b[1;32m<ipython-input-136-59cef0fb60ed>\u001b[0m in \u001b[0;36m<module>\u001b[1;34m()\u001b[0m\n\u001b[0;32m      1\u001b[0m \u001b[1;31m#set也是一组key的集合，不存储value。set中key不能重复，所以set中没有重复的key\u001b[0m\u001b[1;33m\u001b[0m\u001b[1;33m\u001b[0m\u001b[0m\n\u001b[1;32m----> 2\u001b[1;33m \u001b[0ms\u001b[0m\u001b[1;33m(\u001b[0m\u001b[1;36m1\u001b[0m\u001b[1;33m,\u001b[0m\u001b[1;36m2\u001b[0m\u001b[1;33m,\u001b[0m\u001b[1;36m3\u001b[0m\u001b[1;33m)\u001b[0m\u001b[1;33m\u001b[0m\u001b[0m\n\u001b[0m\u001b[0;32m      3\u001b[0m \u001b[0ms\u001b[0m\u001b[1;33m\u001b[0m\u001b[0m\n",
      "\u001b[1;31mTypeError\u001b[0m: 'str' object is not callable"
     ]
    }
   ],
   "source": [
    "#set也是一组key的集合，不存储value。set中key不能重复，所以set中没有重复的key\n"
   ]
  },
  {
   "cell_type": "code",
   "execution_count": 137,
   "metadata": {},
   "outputs": [
    {
     "data": {
      "text/plain": [
       "{1, 2, 3}"
      ]
     },
     "execution_count": 137,
     "metadata": {},
     "output_type": "execute_result"
    }
   ],
   "source": [
    "s=set([1,2,3])\n",
    "s"
   ]
  },
  {
   "cell_type": "code",
   "execution_count": 138,
   "metadata": {},
   "outputs": [
    {
     "data": {
      "text/plain": [
       "{1, 2, 3, 5}"
      ]
     },
     "execution_count": 138,
     "metadata": {},
     "output_type": "execute_result"
    }
   ],
   "source": [
    "s.add(5)\n",
    "s"
   ]
  },
  {
   "cell_type": "code",
   "execution_count": 140,
   "metadata": {},
   "outputs": [
    {
     "data": {
      "text/plain": [
       "{1, 2, 3, 5}"
      ]
     },
     "execution_count": 140,
     "metadata": {},
     "output_type": "execute_result"
    }
   ],
   "source": [
    "s.add(5)\n",
    "s"
   ]
  },
  {
   "cell_type": "code",
   "execution_count": 141,
   "metadata": {},
   "outputs": [
    {
     "data": {
      "text/plain": [
       "{1, 2, 3}"
      ]
     },
     "execution_count": 141,
     "metadata": {},
     "output_type": "execute_result"
    }
   ],
   "source": [
    "s.remove(5)\n",
    "s\n"
   ]
  },
  {
   "cell_type": "code",
   "execution_count": 142,
   "metadata": {},
   "outputs": [
    {
     "data": {
      "text/plain": [
       "{1, 3, 5, 7}"
      ]
     },
     "execution_count": 142,
     "metadata": {},
     "output_type": "execute_result"
    }
   ],
   "source": [
    "s_=set([1,3,5,7])\n",
    "s_\n"
   ]
  },
  {
   "cell_type": "code",
   "execution_count": 143,
   "metadata": {},
   "outputs": [
    {
     "data": {
      "text/plain": [
       "{1, 2, 3, 5, 7}"
      ]
     },
     "execution_count": 143,
     "metadata": {},
     "output_type": "execute_result"
    }
   ],
   "source": [
    "s|s_\n"
   ]
  },
  {
   "cell_type": "code",
   "execution_count": 144,
   "metadata": {},
   "outputs": [
    {
     "data": {
      "text/plain": [
       "{1, 3}"
      ]
     },
     "execution_count": 144,
     "metadata": {},
     "output_type": "execute_result"
    }
   ],
   "source": [
    "s&s_"
   ]
  },
  {
   "cell_type": "code",
   "execution_count": 145,
   "metadata": {},
   "outputs": [
    {
     "data": {
      "text/plain": [
       "['a', 'c', 't']"
      ]
     },
     "execution_count": 145,
     "metadata": {},
     "output_type": "execute_result"
    }
   ],
   "source": [
    "#str是不可变更对象，list是可变更对象\n",
    "s=['a','t','c']\n",
    "s.sort()\n",
    "s"
   ]
  },
  {
   "cell_type": "code",
   "execution_count": 146,
   "metadata": {},
   "outputs": [
    {
     "data": {
      "text/plain": [
       "'Abc'"
      ]
     },
     "execution_count": 146,
     "metadata": {},
     "output_type": "execute_result"
    }
   ],
   "source": [
    "q='abc'\n",
    "q.replace('a','A')"
   ]
  },
  {
   "cell_type": "code",
   "execution_count": 148,
   "metadata": {},
   "outputs": [
    {
     "data": {
      "text/plain": [
       "'abc'"
      ]
     },
     "execution_count": 148,
     "metadata": {},
     "output_type": "execute_result"
    }
   ],
   "source": [
    "q"
   ]
  },
  {
   "cell_type": "code",
   "execution_count": 4,
   "metadata": {},
   "outputs": [
    {
     "name": "stdout",
     "output_type": "stream",
     "text": [
      "452.3893421169302\n",
      "530.929158456675\n",
      "615.7521601035994\n"
     ]
    }
   ],
   "source": [
    "import math\n",
    "list=[12,13,14]\n",
    "def area_circle(i):\n",
    "    area=math.pi*i*i\n",
    "    print(area)\n",
    "for j in list:\n",
    "    area_circle(j)"
   ]
  },
  {
   "cell_type": "code",
   "execution_count": 12,
   "metadata": {},
   "outputs": [
    {
     "name": "stdout",
     "output_type": "stream",
     "text": [
      "Help on built-in function hex in module builtins:\n",
      "\n",
      "hex(number, /)\n",
      "    Return the hexadecimal representation of an integer.\n",
      "    \n",
      "    >>> hex(12648430)\n",
      "    '0xc0ffee'\n",
      "\n"
     ]
    }
   ],
   "source": [
    "help(hex)"
   ]
  },
  {
   "cell_type": "raw",
   "metadata": {},
   "source": []
  },
  {
   "cell_type": "code",
   "execution_count": 13,
   "metadata": {},
   "outputs": [
    {
     "name": "stdout",
     "output_type": "stream",
     "text": [
      "Help on built-in module math:\n",
      "\n",
      "NAME\n",
      "    math\n",
      "\n",
      "DESCRIPTION\n",
      "    This module is always available.  It provides access to the\n",
      "    mathematical functions defined by the C standard.\n",
      "\n",
      "FUNCTIONS\n",
      "    acos(...)\n",
      "        acos(x)\n",
      "        \n",
      "        Return the arc cosine (measured in radians) of x.\n",
      "    \n",
      "    acosh(...)\n",
      "        acosh(x)\n",
      "        \n",
      "        Return the inverse hyperbolic cosine of x.\n",
      "    \n",
      "    asin(...)\n",
      "        asin(x)\n",
      "        \n",
      "        Return the arc sine (measured in radians) of x.\n",
      "    \n",
      "    asinh(...)\n",
      "        asinh(x)\n",
      "        \n",
      "        Return the inverse hyperbolic sine of x.\n",
      "    \n",
      "    atan(...)\n",
      "        atan(x)\n",
      "        \n",
      "        Return the arc tangent (measured in radians) of x.\n",
      "    \n",
      "    atan2(...)\n",
      "        atan2(y, x)\n",
      "        \n",
      "        Return the arc tangent (measured in radians) of y/x.\n",
      "        Unlike atan(y/x), the signs of both x and y are considered.\n",
      "    \n",
      "    atanh(...)\n",
      "        atanh(x)\n",
      "        \n",
      "        Return the inverse hyperbolic tangent of x.\n",
      "    \n",
      "    ceil(...)\n",
      "        ceil(x)\n",
      "        \n",
      "        Return the ceiling of x as an Integral.\n",
      "        This is the smallest integer >= x.\n",
      "    \n",
      "    copysign(...)\n",
      "        copysign(x, y)\n",
      "        \n",
      "        Return a float with the magnitude (absolute value) of x but the sign \n",
      "        of y. On platforms that support signed zeros, copysign(1.0, -0.0) \n",
      "        returns -1.0.\n",
      "    \n",
      "    cos(...)\n",
      "        cos(x)\n",
      "        \n",
      "        Return the cosine of x (measured in radians).\n",
      "    \n",
      "    cosh(...)\n",
      "        cosh(x)\n",
      "        \n",
      "        Return the hyperbolic cosine of x.\n",
      "    \n",
      "    degrees(...)\n",
      "        degrees(x)\n",
      "        \n",
      "        Convert angle x from radians to degrees.\n",
      "    \n",
      "    erf(...)\n",
      "        erf(x)\n",
      "        \n",
      "        Error function at x.\n",
      "    \n",
      "    erfc(...)\n",
      "        erfc(x)\n",
      "        \n",
      "        Complementary error function at x.\n",
      "    \n",
      "    exp(...)\n",
      "        exp(x)\n",
      "        \n",
      "        Return e raised to the power of x.\n",
      "    \n",
      "    expm1(...)\n",
      "        expm1(x)\n",
      "        \n",
      "        Return exp(x)-1.\n",
      "        This function avoids the loss of precision involved in the direct evaluation of exp(x)-1 for small x.\n",
      "    \n",
      "    fabs(...)\n",
      "        fabs(x)\n",
      "        \n",
      "        Return the absolute value of the float x.\n",
      "    \n",
      "    factorial(...)\n",
      "        factorial(x) -> Integral\n",
      "        \n",
      "        Find x!. Raise a ValueError if x is negative or non-integral.\n",
      "    \n",
      "    floor(...)\n",
      "        floor(x)\n",
      "        \n",
      "        Return the floor of x as an Integral.\n",
      "        This is the largest integer <= x.\n",
      "    \n",
      "    fmod(...)\n",
      "        fmod(x, y)\n",
      "        \n",
      "        Return fmod(x, y), according to platform C.  x % y may differ.\n",
      "    \n",
      "    frexp(...)\n",
      "        frexp(x)\n",
      "        \n",
      "        Return the mantissa and exponent of x, as pair (m, e).\n",
      "        m is a float and e is an int, such that x = m * 2.**e.\n",
      "        If x is 0, m and e are both 0.  Else 0.5 <= abs(m) < 1.0.\n",
      "    \n",
      "    fsum(...)\n",
      "        fsum(iterable)\n",
      "        \n",
      "        Return an accurate floating point sum of values in the iterable.\n",
      "        Assumes IEEE-754 floating point arithmetic.\n",
      "    \n",
      "    gamma(...)\n",
      "        gamma(x)\n",
      "        \n",
      "        Gamma function at x.\n",
      "    \n",
      "    gcd(...)\n",
      "        gcd(x, y) -> int\n",
      "        greatest common divisor of x and y\n",
      "    \n",
      "    hypot(...)\n",
      "        hypot(x, y)\n",
      "        \n",
      "        Return the Euclidean distance, sqrt(x*x + y*y).\n",
      "    \n",
      "    isclose(...)\n",
      "        isclose(a, b, *, rel_tol=1e-09, abs_tol=0.0) -> bool\n",
      "        \n",
      "        Determine whether two floating point numbers are close in value.\n",
      "        \n",
      "           rel_tol\n",
      "               maximum difference for being considered \"close\", relative to the\n",
      "               magnitude of the input values\n",
      "            abs_tol\n",
      "               maximum difference for being considered \"close\", regardless of the\n",
      "               magnitude of the input values\n",
      "        \n",
      "        Return True if a is close in value to b, and False otherwise.\n",
      "        \n",
      "        For the values to be considered close, the difference between them\n",
      "        must be smaller than at least one of the tolerances.\n",
      "        \n",
      "        -inf, inf and NaN behave similarly to the IEEE 754 Standard.  That\n",
      "        is, NaN is not close to anything, even itself.  inf and -inf are\n",
      "        only close to themselves.\n",
      "    \n",
      "    isfinite(...)\n",
      "        isfinite(x) -> bool\n",
      "        \n",
      "        Return True if x is neither an infinity nor a NaN, and False otherwise.\n",
      "    \n",
      "    isinf(...)\n",
      "        isinf(x) -> bool\n",
      "        \n",
      "        Return True if x is a positive or negative infinity, and False otherwise.\n",
      "    \n",
      "    isnan(...)\n",
      "        isnan(x) -> bool\n",
      "        \n",
      "        Return True if x is a NaN (not a number), and False otherwise.\n",
      "    \n",
      "    ldexp(...)\n",
      "        ldexp(x, i)\n",
      "        \n",
      "        Return x * (2**i).\n",
      "    \n",
      "    lgamma(...)\n",
      "        lgamma(x)\n",
      "        \n",
      "        Natural logarithm of absolute value of Gamma function at x.\n",
      "    \n",
      "    log(...)\n",
      "        log(x[, base])\n",
      "        \n",
      "        Return the logarithm of x to the given base.\n",
      "        If the base not specified, returns the natural logarithm (base e) of x.\n",
      "    \n",
      "    log10(...)\n",
      "        log10(x)\n",
      "        \n",
      "        Return the base 10 logarithm of x.\n",
      "    \n",
      "    log1p(...)\n",
      "        log1p(x)\n",
      "        \n",
      "        Return the natural logarithm of 1+x (base e).\n",
      "        The result is computed in a way which is accurate for x near zero.\n",
      "    \n",
      "    log2(...)\n",
      "        log2(x)\n",
      "        \n",
      "        Return the base 2 logarithm of x.\n",
      "    \n",
      "    modf(...)\n",
      "        modf(x)\n",
      "        \n",
      "        Return the fractional and integer parts of x.  Both results carry the sign\n",
      "        of x and are floats.\n",
      "    \n",
      "    pow(...)\n",
      "        pow(x, y)\n",
      "        \n",
      "        Return x**y (x to the power of y).\n",
      "    \n",
      "    radians(...)\n",
      "        radians(x)\n",
      "        \n",
      "        Convert angle x from degrees to radians.\n",
      "    \n",
      "    sin(...)\n",
      "        sin(x)\n",
      "        \n",
      "        Return the sine of x (measured in radians).\n",
      "    \n",
      "    sinh(...)\n",
      "        sinh(x)\n",
      "        \n",
      "        Return the hyperbolic sine of x.\n",
      "    \n",
      "    sqrt(...)\n",
      "        sqrt(x)\n",
      "        \n",
      "        Return the square root of x.\n",
      "    \n",
      "    tan(...)\n",
      "        tan(x)\n",
      "        \n",
      "        Return the tangent of x (measured in radians).\n",
      "    \n",
      "    tanh(...)\n",
      "        tanh(x)\n",
      "        \n",
      "        Return the hyperbolic tangent of x.\n",
      "    \n",
      "    trunc(...)\n",
      "        trunc(x:Real) -> Integral\n",
      "        \n",
      "        Truncates x to the nearest Integral toward 0. Uses the __trunc__ magic method.\n",
      "\n",
      "DATA\n",
      "    e = 2.718281828459045\n",
      "    inf = inf\n",
      "    nan = nan\n",
      "    pi = 3.141592653589793\n",
      "    tau = 6.283185307179586\n",
      "\n",
      "FILE\n",
      "    (built-in)\n",
      "\n",
      "\n"
     ]
    }
   ],
   "source": [
    "def nop():\n",
    "    pass#空函数\n",
    "help(math)"
   ]
  },
  {
   "cell_type": "code",
   "execution_count": 8,
   "metadata": {},
   "outputs": [
    {
     "data": {
      "text/plain": [
       "2"
      ]
     },
     "execution_count": 8,
     "metadata": {},
     "output_type": "execute_result"
    }
   ],
   "source": [
    "math.floor(2.33)\n"
   ]
  },
  {
   "cell_type": "code",
   "execution_count": 10,
   "metadata": {},
   "outputs": [
    {
     "data": {
      "text/plain": [
       "3"
      ]
     },
     "execution_count": 10,
     "metadata": {},
     "output_type": "execute_result"
    }
   ],
   "source": [
    "math.ceil(2.83)"
   ]
  },
  {
   "cell_type": "code",
   "execution_count": 11,
   "metadata": {},
   "outputs": [
    {
     "data": {
      "text/plain": [
       "2.0"
      ]
     },
     "execution_count": 11,
     "metadata": {},
     "output_type": "execute_result"
    }
   ],
   "source": [
    "math.fmod(8,3)"
   ]
  },
  {
   "cell_type": "code",
   "execution_count": 23,
   "metadata": {},
   "outputs": [
    {
     "name": "stdout",
     "output_type": "stream",
     "text": [
      "a=1.2222222\n",
      "b=2.22222\n",
      "c=1.222222\n",
      "方程无实数解！\n"
     ]
    }
   ],
   "source": [
    "def answer_2(a,b,c):\n",
    "    delta=b*b-4*a*c\n",
    "    if delta<0:\n",
    "        print(\"方程无实数解！\")\n",
    "    else:\n",
    "        x1=(-b-math.sqrt(delta))/(2*a)\n",
    "        x2=(-b+math.sqrt(delta))/(2*a)\n",
    "        print(\"方程的解：\\nx1=%.10f   x2=%.10f\"%(x1,x2))\n",
    "a=int(input(\"a=\"))\n",
    "b=int(input(\"b=\"))\n",
    "c=int(input(\"c=\"))\n",
    "answer_2(a,b,c)"
   ]
  },
  {
   "cell_type": "code",
   "execution_count": 27,
   "metadata": {},
   "outputs": [
    {
     "name": "stdout",
     "output_type": "stream",
     "text": [
      "1\n",
      "2\n",
      "1\n"
     ]
    },
    {
     "ename": "TypeError",
     "evalue": "can't multiply sequence by non-int of type 'str'",
     "output_type": "error",
     "traceback": [
      "\u001b[1;31m---------------------------------------------------------------------------\u001b[0m",
      "\u001b[1;31mTypeError\u001b[0m                                 Traceback (most recent call last)",
      "\u001b[1;32m<ipython-input-27-456207fb2119>\u001b[0m in \u001b[0;36m<module>\u001b[1;34m()\u001b[0m\n\u001b[0;32m      2\u001b[0m \u001b[1;32mfor\u001b[0m \u001b[0mj\u001b[0m \u001b[1;32min\u001b[0m \u001b[0mlist\u001b[0m\u001b[1;33m:\u001b[0m\u001b[1;33m\u001b[0m\u001b[0m\n\u001b[0;32m      3\u001b[0m     \u001b[0mj\u001b[0m\u001b[1;33m=\u001b[0m\u001b[0mint\u001b[0m\u001b[1;33m(\u001b[0m\u001b[0minput\u001b[0m\u001b[1;33m(\u001b[0m\u001b[1;33m)\u001b[0m\u001b[1;33m)\u001b[0m\u001b[1;33m\u001b[0m\u001b[0m\n\u001b[1;32m----> 4\u001b[1;33m \u001b[0manswer_2\u001b[0m\u001b[1;33m(\u001b[0m\u001b[0mlist\u001b[0m\u001b[1;33m[\u001b[0m\u001b[1;36m0\u001b[0m\u001b[1;33m]\u001b[0m\u001b[1;33m,\u001b[0m\u001b[0mlist\u001b[0m\u001b[1;33m[\u001b[0m\u001b[1;36m1\u001b[0m\u001b[1;33m]\u001b[0m\u001b[1;33m,\u001b[0m\u001b[0mlist\u001b[0m\u001b[1;33m[\u001b[0m\u001b[1;36m2\u001b[0m\u001b[1;33m]\u001b[0m\u001b[1;33m)\u001b[0m\u001b[1;33m\u001b[0m\u001b[0m\n\u001b[0m",
      "\u001b[1;32m<ipython-input-23-e8ce7e6a3e67>\u001b[0m in \u001b[0;36manswer_2\u001b[1;34m(a, b, c)\u001b[0m\n\u001b[0;32m      1\u001b[0m \u001b[1;32mdef\u001b[0m \u001b[0manswer_2\u001b[0m\u001b[1;33m(\u001b[0m\u001b[0ma\u001b[0m\u001b[1;33m,\u001b[0m\u001b[0mb\u001b[0m\u001b[1;33m,\u001b[0m\u001b[0mc\u001b[0m\u001b[1;33m)\u001b[0m\u001b[1;33m:\u001b[0m\u001b[1;33m\u001b[0m\u001b[0m\n\u001b[1;32m----> 2\u001b[1;33m     \u001b[0mdelta\u001b[0m\u001b[1;33m=\u001b[0m\u001b[0mb\u001b[0m\u001b[1;33m*\u001b[0m\u001b[0mb\u001b[0m\u001b[1;33m-\u001b[0m\u001b[1;36m4\u001b[0m\u001b[1;33m*\u001b[0m\u001b[0ma\u001b[0m\u001b[1;33m*\u001b[0m\u001b[0mc\u001b[0m\u001b[1;33m\u001b[0m\u001b[0m\n\u001b[0m\u001b[0;32m      3\u001b[0m     \u001b[1;32mif\u001b[0m \u001b[0mdelta\u001b[0m\u001b[1;33m<\u001b[0m\u001b[1;36m0\u001b[0m\u001b[1;33m:\u001b[0m\u001b[1;33m\u001b[0m\u001b[0m\n\u001b[0;32m      4\u001b[0m         \u001b[0mprint\u001b[0m\u001b[1;33m(\u001b[0m\u001b[1;34m\"方程无实数解！\"\u001b[0m\u001b[1;33m)\u001b[0m\u001b[1;33m\u001b[0m\u001b[0m\n\u001b[0;32m      5\u001b[0m     \u001b[1;32melse\u001b[0m\u001b[1;33m:\u001b[0m\u001b[1;33m\u001b[0m\u001b[0m\n",
      "\u001b[1;31mTypeError\u001b[0m: can't multiply sequence by non-int of type 'str'"
     ]
    }
   ],
   "source": [
    "list=['d','e','f']\n",
    "for j in list:\n",
    "    j=int(input())\n",
    "answer_2(list[0],list[1],list[2])"
   ]
  },
  {
   "cell_type": "code",
   "execution_count": 28,
   "metadata": {},
   "outputs": [
    {
     "name": "stdout",
     "output_type": "stream",
     "text": [
      "25\n"
     ]
    }
   ],
   "source": [
    "print(5**2)"
   ]
  },
  {
   "cell_type": "code",
   "execution_count": 30,
   "metadata": {},
   "outputs": [
    {
     "ename": "TypeError",
     "evalue": "calc() takes 1 positional argument but 2 were given",
     "output_type": "error",
     "traceback": [
      "\u001b[1;31m---------------------------------------------------------------------------\u001b[0m",
      "\u001b[1;31mTypeError\u001b[0m                                 Traceback (most recent call last)",
      "\u001b[1;32m<ipython-input-30-cd000bf84110>\u001b[0m in \u001b[0;36m<module>\u001b[1;34m()\u001b[0m\n\u001b[0;32m      5\u001b[0m         \u001b[0msum\u001b[0m\u001b[1;33m=\u001b[0m\u001b[0msum\u001b[0m\u001b[1;33m+\u001b[0m\u001b[0mi\u001b[0m\u001b[1;33m*\u001b[0m\u001b[0mi\u001b[0m\u001b[1;33m\u001b[0m\u001b[0m\n\u001b[0;32m      6\u001b[0m     \u001b[1;32mreturn\u001b[0m \u001b[0msum\u001b[0m\u001b[1;33m\u001b[0m\u001b[0m\n\u001b[1;32m----> 7\u001b[1;33m \u001b[0mcalc\u001b[0m\u001b[1;33m(\u001b[0m\u001b[1;36m1\u001b[0m\u001b[1;33m,\u001b[0m\u001b[1;36m2\u001b[0m\u001b[1;33m)\u001b[0m\u001b[1;33m\u001b[0m\u001b[0m\n\u001b[0m",
      "\u001b[1;31mTypeError\u001b[0m: calc() takes 1 positional argument but 2 were given"
     ]
    }
   ],
   "source": [
    "#可变参数\n",
    "def calc(numbers):\n",
    "    sum=0\n",
    "    for i in numbers:\n",
    "        sum=sum+i*i\n",
    "    return sum\n",
    "calc(1,2)\n"
   ]
  },
  {
   "cell_type": "code",
   "execution_count": 31,
   "metadata": {},
   "outputs": [
    {
     "data": {
      "text/plain": [
       "30"
      ]
     },
     "execution_count": 31,
     "metadata": {},
     "output_type": "execute_result"
    }
   ],
   "source": [
    "def calc(numbers):\n",
    "    sum=0\n",
    "    for i in numbers:\n",
    "        sum=sum+i*i\n",
    "    return sum\n",
    "calc((1,2,3,4))\n"
   ]
  },
  {
   "cell_type": "code",
   "execution_count": 32,
   "metadata": {},
   "outputs": [
    {
     "data": {
      "text/plain": [
       "30"
      ]
     },
     "execution_count": 32,
     "metadata": {},
     "output_type": "execute_result"
    }
   ],
   "source": [
    "def calc(numbers):\n",
    "    sum=0\n",
    "    for i in numbers:\n",
    "        sum=sum+i*i\n",
    "    return sum\n",
    "calc([1,2,3,4])\n"
   ]
  },
  {
   "cell_type": "code",
   "execution_count": 33,
   "metadata": {},
   "outputs": [
    {
     "data": {
      "text/plain": [
       "30"
      ]
     },
     "execution_count": 33,
     "metadata": {},
     "output_type": "execute_result"
    }
   ],
   "source": [
    "def calc1(*numbers):\n",
    "    sum=0\n",
    "    for i in (numbers):\n",
    "        sum+=i*i\n",
    "    return sum\n",
    "calc1(1,2,3,4)"
   ]
  },
  {
   "cell_type": "code",
   "execution_count": 34,
   "metadata": {},
   "outputs": [
    {
     "data": {
      "text/plain": [
       "30"
      ]
     },
     "execution_count": 34,
     "metadata": {},
     "output_type": "execute_result"
    }
   ],
   "source": [
    "nums=[1,2,3,4]\n",
    "calc1(nums[0],nums[1],nums[2],nums[3])"
   ]
  },
  {
   "cell_type": "code",
   "execution_count": 35,
   "metadata": {},
   "outputs": [
    {
     "name": "stdout",
     "output_type": "stream",
     "text": [
      "name: michael age: 30 other: {}\n"
     ]
    }
   ],
   "source": [
    "#关键字参数允许传入0个或任意个含参数名的参数，这些关键字参数在函数内部自动组装为一个dict\n",
    "def person(name,age,**kw):\n",
    "    print('name:',name,'age:',age,'other:',kw)\n",
    "person('michael',30)"
   ]
  },
  {
   "cell_type": "code",
   "execution_count": 36,
   "metadata": {},
   "outputs": [
    {
     "name": "stdout",
     "output_type": "stream",
     "text": [
      "name: michael age: 30 other: {'city': 'beijing'}\n"
     ]
    }
   ],
   "source": [
    "person('michael',30,city='beijing')"
   ]
  },
  {
   "cell_type": "code",
   "execution_count": 38,
   "metadata": {},
   "outputs": [
    {
     "name": "stdout",
     "output_type": "stream",
     "text": [
      "name: jack age: 25 other: {'city': 'beijing', 'job': 'engineer'}\n"
     ]
    }
   ],
   "source": [
    "extra={'city':'beijing','job':'engineer'}\n",
    "person('jack',25,**extra)"
   ]
  },
  {
   "cell_type": "code",
   "execution_count": 31,
   "metadata": {},
   "outputs": [
    {
     "data": {
      "image/png": "[encoded data removed]",
      "text/plain": [
       "<matplotlib.figure.Figure at 0x21d51994160>"
      ]
     },
     "metadata": {},
     "output_type": "display_data"
    },
    {
     "data": {
      "image/png": "[encoded data removed]",
      "text/plain": [
       "<matplotlib.figure.Figure at 0x21d519943c8>"
      ]
     },
     "metadata": {},
     "output_type": "display_data"
    }
   ],
   "source": [
    "import numpy as np\n",
    "import matplotlib.pyplot as plt\n",
    "plt.figure(1)\n",
    "plt.figure(2)\n",
    "ax1=plt.subplot(111)\n",
    "ax2=plt.subplot(211)\n",
    "x=np.linspace(-4,4,100)\n",
    "plt.figure(1)\n",
    "plt.plot(x,np.exp(x/3))\n",
    "\n",
    "plt.figure(2)\n",
    "plt.plot(x,np.sin(2*x))\n",
    "\n",
    "plt.show()"
   ]
  },
  {
   "cell_type": "code",
   "execution_count": 57,
   "metadata": {},
   "outputs": [
    {
     "data": {
      "text/plain": [
       "[<matplotlib.lines.Line2D at 0x21d5379e048>]"
      ]
     },
     "execution_count": 57,
     "metadata": {},
     "output_type": "execute_result"
    },
    {
     "data": {
      "image/png": "[encoded data removed]",
      "text/plain": [
       "<matplotlib.figure.Figure at 0x21d5379e198>"
      ]
     },
     "metadata": {},
     "output_type": "display_data"
    }
   ],
   "source": [
    "x1=np.linspace(0,20,1000)\n",
    "y1=[np.cos(num) for num in x1]\n",
    "plt.plot(x1,y1)\n",
    "a=[0 for i in range(0,22)]\n",
    "plt.plot(range(22),a)"
   ]
  },
  {
   "cell_type": "code",
   "execution_count": 234,
   "metadata": {},
   "outputs": [
    {
     "name": "stdout",
     "output_type": "stream",
     "text": [
      "-1.0   -0.9   -0.8   -0.7   -0.6   -0.5   -0.4   -0.3   -0.2   -0.1   0.0   0.1   0.2   0.3   0.4   0.5   0.6   0.7   0.8   0.9   1.0   0.038462  0.047059  0.058824  0.075472  0.100000  0.137931  0.200000  0.307692  0.500000  0.800000  1.000000  0.800000  0.500000  0.307692  0.200000  0.137931  0.100000  0.075472  0.058824  0.047059  0.038462  "
     ]
    }
   ],
   "source": [
    "import numpy as np\n",
    "import matplotlib.pyplot as plt\n",
    "x=[]\n",
    "f=[]\n",
    "for i in range(21):\n",
    "    x.append(-1+0.1*i)\n",
    "    print('%.1f'%x[i],end='   ')\n",
    "for i in range(21):\n",
    "    x.append(-1+0.1*i)\n",
    "    f.append(1/(1+25*x[i]**2))\n",
    "    print('%f'%f[i],end='  ')"
   ]
  },
  {
   "cell_type": "code",
   "execution_count": 85,
   "metadata": {},
   "outputs": [
    {
     "data": {
      "text/plain": [
       "[0.038461538461538464,\n",
       " 0.047058823529411764,\n",
       " 0.05882352941176469,\n",
       " 0.07547169811320756,\n",
       " 0.1,\n",
       " 0.13793103448275862,\n",
       " 0.20000000000000007,\n",
       " 0.3076923076923078,\n",
       " 0.5000000000000001,\n",
       " 0.8,\n",
       " 1.0,\n",
       " 0.7999999999999997,\n",
       " 0.49999999999999956,\n",
       " 0.30769230769230765,\n",
       " 0.1999999999999999,\n",
       " 0.13793103448275862,\n",
       " 0.09999999999999998,\n",
       " 0.0754716981132075,\n",
       " 0.05882352941176469,\n",
       " 0.04705882352941175,\n",
       " 0.038461538461538464]"
      ]
     },
     "execution_count": 85,
     "metadata": {},
     "output_type": "execute_result"
    }
   ],
   "source": [
    "import numpy as np\n",
    "import matplotlib.pyplot as plt\n",
    "x=[]\n",
    "f=[]\n",
    "for i in range(21):\n",
    "    x.append(-1+0.1*i)\n",
    "    f.append(1/(1+25*x[i]**2))\n",
    "f"
   ]
  },
  {
   "cell_type": "code",
   "execution_count": 124,
   "metadata": {},
   "outputs": [
    {
     "data": {
      "text/plain": [
       "[-1.0,\n",
       " -0.9,\n",
       " -0.8,\n",
       " -0.7,\n",
       " -0.6,\n",
       " -0.5,\n",
       " -0.3999999999999999,\n",
       " -0.29999999999999993,\n",
       " -0.19999999999999996,\n",
       " -0.09999999999999998,\n",
       " 0.0,\n",
       " 0.10000000000000009,\n",
       " 0.20000000000000018,\n",
       " 0.30000000000000004,\n",
       " 0.40000000000000013,\n",
       " 0.5,\n",
       " 0.6000000000000001,\n",
       " 0.7000000000000002,\n",
       " 0.8,\n",
       " 0.9000000000000001,\n",
       " 1.0]"
      ]
     },
     "execution_count": 124,
     "metadata": {},
     "output_type": "execute_result"
    }
   ],
   "source": [
    "import numpy as np\n",
    "import matplotlib.pyplot as plt\n",
    "def lagrange(s):\n",
    "    x=[]\n",
    "    f=[]\n",
    "    l=[]\n",
    "    for i in range(21):\n",
    "        x.append(-1+0.1*i)\n",
    "        f.append(1/(1+25*x[i]**2))\n",
    "    for j in range(21):\n",
    "        for m in range(21):\n",
    "            q=1\n",
    "            q=q*(s-x[m])\n",
    "            p=1\n",
    "            if(j!=m):\n",
    "                p=p*(x[j]-x[m])\n",
    "        l.append(q/p)\n",
    "    return(l)\n",
    "x"
   ]
  },
  {
   "cell_type": "code",
   "execution_count": 148,
   "metadata": {},
   "outputs": [
    {
     "ename": "AttributeError",
     "evalue": "module 'pandas' has no attribute 'lagrange'",
     "output_type": "error",
     "traceback": [
      "\u001b[1;31m---------------------------------------------------------------------------\u001b[0m",
      "\u001b[1;31mAttributeError\u001b[0m                            Traceback (most recent call last)",
      "\u001b[1;32m<ipython-input-148-56762adefb9f>\u001b[0m in \u001b[0;36m<module>\u001b[1;34m()\u001b[0m\n\u001b[0;32m      1\u001b[0m \u001b[1;32mimport\u001b[0m \u001b[0mmath\u001b[0m\u001b[1;33m\u001b[0m\u001b[0m\n\u001b[0;32m      2\u001b[0m \u001b[1;32mimport\u001b[0m \u001b[0mpandas\u001b[0m\u001b[1;33m\u001b[0m\u001b[0m\n\u001b[1;32m----> 3\u001b[1;33m \u001b[0mhelp\u001b[0m\u001b[1;33m(\u001b[0m\u001b[0mpandas\u001b[0m\u001b[1;33m.\u001b[0m\u001b[0mlagrange\u001b[0m\u001b[1;33m)\u001b[0m\u001b[1;33m\u001b[0m\u001b[0m\n\u001b[0m",
      "\u001b[1;31mAttributeError\u001b[0m: module 'pandas' has no attribute 'lagrange'"
     ]
    }
   ],
   "source": [
    "import math\n",
    "import pandas\n",
    "help(pandas.lagrange)"
   ]
  },
  {
   "cell_type": "code",
   "execution_count": 119,
   "metadata": {},
   "outputs": [
    {
     "data": {
      "text/plain": [
       "100"
      ]
     },
     "execution_count": 119,
     "metadata": {},
     "output_type": "execute_result"
    }
   ],
   "source": [
    "25*2**2  "
   ]
  },
  {
   "cell_type": "code",
   "execution_count": 219,
   "metadata": {},
   "outputs": [
    {
     "data": {
      "text/plain": [
       "0.038461538461538464"
      ]
     },
     "execution_count": 219,
     "metadata": {},
     "output_type": "execute_result"
    }
   ],
   "source": [
    "def lagrange(s):\n",
    "    t=21\n",
    "    x=[]\n",
    "    f=[]\n",
    "    l=[]\n",
    "    for i in range(t):\n",
    "        x.append(-1+0.1*i)\n",
    "        f.append(1/(1+25*x[i]**2))\n",
    "    for j in range(t):\n",
    "        q=1\n",
    "        for m in range(t):\n",
    "            if(m!=j):\n",
    "                q=q*(s-x[m])/(x[j]-x[m])     \n",
    "        l.append(q)\n",
    "    sum=0\n",
    "    for i in range(t):\n",
    "        sum=sum+f[i]*l[i]\n",
    "    return(sum)\n"
   ]
  },
  {
   "cell_type": "code",
   "execution_count": 242,
   "metadata": {},
   "outputs": [
    {
     "data": {
      "text/plain": [
       "[<matplotlib.lines.Line2D at 0x21d558ff438>]"
      ]
     },
     "execution_count": 242,
     "metadata": {},
     "output_type": "execute_result"
    },
    {
     "data": {
      "image/png": "[encoded data removed]",
      "text/plain": [
       "<matplotlib.figure.Figure at 0x21d558ff5c0>"
      ]
     },
     "metadata": {},
     "output_type": "display_data"
    }
   ],
   "source": [
    "import numpy as np\n",
    "import matplotlib.pyplot as plt\n",
    "x=np.linspace(-1,1,40)\n",
    "plt.plot(x,lagrange(x))\n",
    "plt.plot(x,1/(1+25*x**2))"
   ]
  },
  {
   "cell_type": "code",
   "execution_count": 271,
   "metadata": {},
   "outputs": [
    {
     "data": {
      "text/plain": [
       "[<matplotlib.lines.Line2D at 0x21d55a88160>]"
      ]
     },
     "execution_count": 271,
     "metadata": {},
     "output_type": "execute_result"
    },
    {
     "data": {
      "image/png": "[encoded data removed]",
      "text/plain": [
       "<matplotlib.figure.Figure at 0x21d559cb630>"
      ]
     },
     "metadata": {},
     "output_type": "display_data"
    }
   ],
   "source": [
    "import numpy as np\n",
    "import matplotlib.pyplot as plt\n",
    "import math\n",
    "#Runge函数\n",
    "def f(x):\n",
    "    return(1/(1+25*x**2))\n",
    "#n阶第一类Chebyshev多项式\n",
    "def T1(n,x):\n",
    "    if(n==0):\n",
    "        return(1)\n",
    "    elif(n==1):\n",
    "        return(x)\n",
    "    else:\n",
    "        return(2*x*T1(n-1,x)-T1(n-2,x))\n",
    "#Chebyshev多项式的系数\n",
    "def C1(m):\n",
    "    sum=0\n",
    "    for i in range(20):\n",
    "        sum=sum+f(math.cos(math.pi*(i+1/2)/20))*math.cos(math.pi*m*(i+1/2)/20)\n",
    "    return(sum/10)\n",
    "#近似得到目标函数F\n",
    "def F(x):\n",
    "    sum=C1(0)/2\n",
    "    for i in range(1,20):\n",
    "        sum=sum+C1(i)*T1(i,x)\n",
    "    return(sum)\n",
    "x=np.linspace(-1,1,200)\n",
    "plt.plot(x,F(x))\n",
    "plt.plot(x,f(x))"
   ]
  },
  {
   "cell_type": "code",
   "execution_count": 263,
   "metadata": {},
   "outputs": [
    {
     "data": {
      "text/plain": [
       "-0.9876883405951377"
      ]
     },
     "execution_count": 263,
     "metadata": {},
     "output_type": "execute_result"
    }
   ],
   "source": [
    "math.cos(math.pi*19/20)"
   ]
  },
  {
   "cell_type": "code",
   "execution_count": 265,
   "metadata": {},
   "outputs": [
    {
     "data": {
      "text/plain": [
       "0.039388367265096036"
      ]
     },
     "execution_count": 265,
     "metadata": {},
     "output_type": "execute_result"
    }
   ],
   "source": [
    "f(-0.9876883405951377)"
   ]
  },
  {
   "cell_type": "code",
   "execution_count": 339,
   "metadata": {},
   "outputs": [
    {
     "data": {
      "text/plain": [
       "[0.21000000000000002, -0.52, 1.2000000000000002, 0.8200000000000001, -0.64]"
      ]
     },
     "execution_count": 339,
     "metadata": {},
     "output_type": "execute_result"
    }
   ],
   "source": [
    "#求三次样条函数的矩(求解三对角矩阵)\n",
    "def M1(a,b,c,d):#a、c参数是三对角矩阵的非对角元，b为对角元，AX=d\n",
    "    n=len(b)\n",
    "    q=[]\n",
    "    p=[]\n",
    "    x=[]\n",
    "    for j in range(n-1):\n",
    "        q.append(j)\n",
    "    for k in range(n):\n",
    "        p.append(k)\n",
    "        x.append(k)\n",
    "    q[0]=c[0]/b[0]\n",
    "    p[0]=d[0]/b[0]\n",
    "    for i in range(1,n-1):\n",
    "        q[i]=c[i]/(b[i]-q[i-1]*a[i-1])\n",
    "    for j in range(1,n):\n",
    "        p[j]=(d[j]-p[j-1]*a[j-1])/(b[j]-q[j-1]*a[j-1])\n",
    "    x[n-1]=p[n-1]\n",
    "    for k in range(n-2,-1,-1):\n",
    "        x[k]=p[k]-q[k]*x[k+1]\n",
    "    return (x)\n",
    "b=[8,8,8,8,8]\n",
    "c=[-1,1,-1,1]\n",
    "a=[2,1,2,1]\n",
    "d=[2.2,-2.54,8.26,8.32,-4.3]\n",
    "M1(a,b,c,d)"
   ]
  },
  {
   "cell_type": "code",
   "execution_count": 359,
   "metadata": {},
   "outputs": [
    {
     "data": {
      "image/png": "[encoded data removed]",
      "text/plain": [
       "<matplotlib.figure.Figure at 0x21d584fb320>"
      ]
     },
     "metadata": {},
     "output_type": "display_data"
    }
   ],
   "source": [
    "def f(x):\n",
    "    return(1/(1+25*x**2))\n",
    "#取自然边界条件即m0=mn=0\n",
    "N=21\n",
    "b=[]\n",
    "c=[]\n",
    "a=[]\n",
    "d=[]\n",
    "y=[]\n",
    "x=[]\n",
    "h=[]\n",
    "for i in range(N):\n",
    "    x.append(-1+0.1*i)\n",
    "    y.append(f(x[i]))\n",
    "for j in range(N-1):\n",
    "    h.append(x[j+1]-x[j])\n",
    "for i in range(N):\n",
    "    b.append(i)\n",
    "    d.append(i)\n",
    "for i in range(N-1):\n",
    "    a.append(i)\n",
    "    c.append(i)\n",
    "a[N-2]=0\n",
    "c[0]=0\n",
    "b[0]=b[N-1]=1\n",
    "d[0]=d[N-1]=0\n",
    "for i in range(N-2):\n",
    "    a[i]=h[i]/6\n",
    "    c[i+1]=h[i+1]/6\n",
    "for i in range(1,N-1):\n",
    "    b[i]=(h[i-1]+h[i])/3\n",
    "    d[i]=(y[i+1]-y[i])/h[i]-(y[i]-y[i-1])/h[i-1]\n",
    "#矩\n",
    "m=M1(a,b,c,d)\n",
    "#定义三次样条函数\n",
    "def s(g,j):\n",
    "    Aj=(y[j+1]-y[j])/h[j]-h[j]*(m[j+1]-m[j])/6\n",
    "    Bj=y[j]-m[j]*h[j]**2/6\n",
    "    Sj=m[j]*(x[j+1]-g)**3/(6*h[j])+m[j+1]*(g-x[j])**3/(6*h[j])+Aj*(g-x[j])+Bj\n",
    "    return(Sj)\n",
    "for i in range(N-1):\n",
    "    g=np.linspace(-1+0.1*i,-1+0.1*(i+1),200)\n",
    "    plt.plot(g,s(g,i))"
   ]
  },
  {
   "cell_type": "code",
   "execution_count": 357,
   "metadata": {},
   "outputs": [
    {
     "name": "stdout",
     "output_type": "stream",
     "text": [
      "0.0\t0.20710678118654752\t6.123233995736765e-17\t-1.2071067811865475\t-2.0\t-1.207106781186548\t-1.8369701987210302e-16\t0.2071067811865476\t0.0\t"
     ]
    }
   ],
   "source": [
    "import numpy as np\n",
    "def Xt(t):\n",
    "    r=(1-math.cos(math.pi*t/4))*math.cos(math.pi*t/4)\n",
    "    return(r)\n",
    "def Yt(t):\n",
    "    r=(1-math.cos(math.pi*t/4))*math.sin(math.pi*t/4)\n",
    "    return(r)\n",
    "for i in range(9):\n",
    "    print(Xt(i),end='\\t')     \n",
    "    "
   ]
  },
  {
   "cell_type": "code",
   "execution_count": 4,
   "metadata": {},
   "outputs": [],
   "source": [
    "import numpy as np\n",
    "def Xt(t):\n",
    "    r=(1-math.cos(math.pi*t/4))*math.cos(math.pi*t/4)\n",
    "    return(r)\n",
    "def Yt(t):\n",
    "    r=(1-math.cos(math.pi*t/4))*math.sin(math.pi*t/4)\n",
    "    return(r)\n",
    "#求三次样条函数的矩(求解三对角矩阵)\n",
    "def M1(a,b,c,d):#a、c参数是三对角矩阵的非对角元，b为对角元，AX=d\n",
    "    n=len(b)\n",
    "    q=[]\n",
    "    p=[]\n",
    "    x=[]\n",
    "    for j in range(n-1):\n",
    "        q.append(j)\n",
    "    for k in range(n):\n",
    "        p.append(k)\n",
    "        x.append(k)\n",
    "    q[0]=c[0]/b[0]\n",
    "    p[0]=d[0]/b[0]\n",
    "    for i in range(1,n-1):\n",
    "        q[i]=c[i]/(b[i]-q[i-1]*a[i-1])\n",
    "    for j in range(1,n):\n",
    "        p[j]=(d[j]-p[j-1]*a[j-1])/(b[j]-q[j-1]*a[j-1])\n",
    "    x[n-1]=p[n-1]\n",
    "    for k in range(n-2,-1,-1):\n",
    "        x[k]=p[k]-q[k]*x[k+1]\n",
    "    return (x)"
   ]
  },
  {
   "cell_type": "code",
   "execution_count": 12,
   "metadata": {},
   "outputs": [
    {
     "data": {
      "image/png": "[encoded data removed]",
      "text/plain": [
       "<matplotlib.figure.Figure at 0x19c8eac1dd8>"
      ]
     },
     "metadata": {},
     "output_type": "display_data"
    }
   ],
   "source": [
    "import numpy as np\n",
    "import matplotlib.pyplot as plt\n",
    "import math\n",
    "def Xt(t):\n",
    "    r=(1-math.cos(math.pi*t/4))*math.cos(math.pi*t/4)\n",
    "    return(r)\n",
    "def Yt(t):\n",
    "    r=(1-math.cos(math.pi*t/4))*math.sin(math.pi*t/4)\n",
    "    return(r)\n",
    "#求三次样条函数的矩(求解三对角矩阵)\n",
    "def M1(a,b,c,d):#a、c参数是三对角矩阵的非对角元，b为对角元，AX=d\n",
    "    n=len(b)\n",
    "    q=[]\n",
    "    p=[]\n",
    "    x=[]\n",
    "    for j in range(n-1):\n",
    "        q.append(j)\n",
    "    for k in range(n):\n",
    "        p.append(k)\n",
    "        x.append(k)\n",
    "    q[0]=c[0]/b[0]\n",
    "    p[0]=d[0]/b[0]\n",
    "    for i in range(1,n-1):\n",
    "        q[i]=c[i]/(b[i]-q[i-1]*a[i-1])\n",
    "    for j in range(1,n):\n",
    "        p[j]=(d[j]-p[j-1]*a[j-1])/(b[j]-q[j-1]*a[j-1])\n",
    "    x[n-1]=p[n-1]\n",
    "    for k in range(n-2,-1,-1):\n",
    "        x[k]=p[k]-q[k]*x[k+1]\n",
    "    return (x)\n",
    "#给出函数f(t)，点的个数N，起始点p，步长q反回三次样条函数\n",
    "def yt3(f,N,p,q,k,J):\n",
    "    #取自然边界条件即m0=mn=0\n",
    "    b=[]\n",
    "    c=[]\n",
    "    a=[]\n",
    "    d=[]\n",
    "    y=[]\n",
    "    x=[]\n",
    "    h=[]\n",
    "    for i in range(N):\n",
    "        x.append(p+q*i)\n",
    "        y.append(f(x[i]))\n",
    "    for j in range(N-1):\n",
    "        h.append(x[j+1]-x[j])\n",
    "    for i in range(N):\n",
    "        b.append(i)\n",
    "        d.append(i)\n",
    "    for i in range(N-1):\n",
    "        a.append(i)\n",
    "        c.append(i)\n",
    "    a[N-2]=0\n",
    "    c[0]=0\n",
    "    b[0]=b[N-1]=1\n",
    "    d[0]=d[N-1]=0\n",
    "    for i in range(N-2):\n",
    "        a[i]=h[i]/6\n",
    "        c[i+1]=h[i+1]/6\n",
    "    for i in range(1,N-1):\n",
    "        b[i]=(h[i-1]+h[i])/3\n",
    "        d[i]=(y[i+1]-y[i])/h[i]-(y[i]-y[i-1])/h[i-1]\n",
    "    #矩\n",
    "    m=M1(a,b,c,d)\n",
    "    #定义三次样条函数\n",
    "    def s(g,j):\n",
    "        Aj=(y[j+1]-y[j])/h[j]-h[j]*(m[j+1]-m[j])/6\n",
    "        Bj=y[j]-m[j]*h[j]**2/6\n",
    "        Sj=m[j]*(x[j+1]-g)**3/(6*h[j])+m[j+1]*(g-x[j])**3/(6*h[j])+Aj*(g-x[j])+Bj\n",
    "        return(Sj)\n",
    "    return(s(k,J))\n",
    "#import pylab as pl\n",
    "for i in range(8):\n",
    "    k=np.linspace(0+1*i,0+1*(i+1),200)\n",
    "    plt.plot(yt3(Xt,9,0,1,k,i),yt3(Yt,9,0,1,k,i),'k')\n",
    "    plt.plot(k,yt3(Xt,9,0,1,k,i),'r')\n",
    "    plt.plot(k,yt3(Yt,9,0,1,k,i),'b')"
   ]
  },
  {
   "cell_type": "code",
   "execution_count": 2,
   "metadata": {},
   "outputs": [
    {
     "data": {
      "text/plain": [
       "[<matplotlib.lines.Line2D at 0x2191eacaa20>]"
      ]
     },
     "execution_count": 2,
     "metadata": {},
     "output_type": "execute_result"
    },
    {
     "data": {
      "image/png": "[encoded data removed]",
      "text/plain": [
       "<matplotlib.figure.Figure at 0x2191eaca978>"
      ]
     },
     "metadata": {},
     "output_type": "display_data"
    }
   ],
   "source": [
    "import numpy as np\n",
    "import matplotlib.pyplot as plt\n",
    "#定义朗格朗日函数，反回拉格朗日插值法法所得的值\n",
    "def lagrange(s):\n",
    "    t=21\n",
    "    x=[]\n",
    "    f=[]\n",
    "    l=[]\n",
    "    for i in range(t):\n",
    "        x.append(-1+0.1*i)\n",
    "        f.append(1/(1+25*x[i]**2))\n",
    "    for j in range(t):\n",
    "        q=1\n",
    "        for m in range(t):\n",
    "            if(m!=j):\n",
    "                q=q*(s-x[m])/(x[j]-x[m])     \n",
    "        l.append(q)\n",
    "    sum=0\n",
    "    for i in range(t):\n",
    "        sum=sum+f[i]*l[i]\n",
    "    return(sum)\n",
    "x=np.linspace(-1,1,200)\n",
    "#绘图\n",
    "plt.plot(x,lagrange(x))\n",
    "plt.plot(x,1/(1+25*x**2))"
   ]
  },
  {
   "cell_type": "code",
   "execution_count": 115,
   "metadata": {},
   "outputs": [
    {
     "name": "stdout",
     "output_type": "stream",
     "text": [
      "+----------------------+----------------------+----------------------+-----------------------+\n",
      "|          x           |         f(x)         |         P(x)         |      |f(x)-P(x)|      |\n",
      "+----------------------+----------------------+----------------------+-----------------------+\n",
      "|         -1.0         | 0.038461538461538464 | 0.038461538461538464 |          0.0          |\n",
      "|        -0.95         | 0.042440318302387266 |  -39.95244903304148  |   39.99488935134387   |\n",
      "|         -0.9         | 0.047058823529411764 | 0.047058823529411764 |          0.0          |\n",
      "|        -0.85         | 0.05245901639344263  |  3.4549577998641214  |   3.402498783470679   |\n",
      "|         -0.8         | 0.05882352941176469  | 0.05882352941176469  |          0.0          |\n",
      "|        -0.75         | 0.06639004149377593  | -0.4470519607088397  |   0.5134420022026156  |\n",
      "|         -0.7         | 0.07547169811320756  | 0.07547169811320756  |          0.0          |\n",
      "| -0.6499999999999999  | 0.08648648648648652  | 0.20242261570456302  |   0.1159361292180765  |\n",
      "|         -0.6         |         0.1          |         0.1          |          0.0          |\n",
      "|        -0.55         | 0.11678832116788321  |  0.0806599934216564  |  0.036128327746226804 |\n",
      "|         -0.5         | 0.13793103448275862  | 0.13793103448275862  |          0.0          |\n",
      "| -0.44999999999999996 | 0.16494845360824745  | 0.17976262990059816  |  0.014814176292350711 |\n",
      "| -0.3999999999999999  | 0.20000000000000007  | 0.20000000000000007  |          0.0          |\n",
      "|        -0.35         | 0.24615384615384617  | 0.23844593373813294  |  0.007707912415713225 |\n",
      "| -0.29999999999999993 |  0.3076923076923078  |  0.3076923076923078  |          0.0          |\n",
      "|        -0.25         |  0.3902439024390244  | 0.39509305368777975  |  0.004849151248755346 |\n",
      "| -0.19999999999999996 |  0.5000000000000001  |  0.5000000000000001  |          0.0          |\n",
      "| -0.1499999999999999  |  0.6400000000000002  |  0.6367553359164332  | 0.0032446640835670504 |\n",
      "| -0.09999999999999998 |         0.8          |         0.8          |          0.0          |\n",
      "| -0.04999999999999993 |  0.9411764705882355  |  0.9424903797439846  | 0.0013139091557491378 |\n",
      "|         0.0          |         1.0          |         1.0          |          0.0          |\n",
      "| 0.050000000000000044 |  0.9411764705882353  |  0.9424903797439846  | 0.0013139091557493598 |\n",
      "| 0.10000000000000009  |  0.7999999999999997  |  0.7999999999999997  |          0.0          |\n",
      "| 0.15000000000000013  |  0.6399999999999997  |  0.6367553359164324  | 0.0032446640835672724 |\n",
      "| 0.20000000000000018  | 0.49999999999999956  | 0.49999999999999956  |          0.0          |\n",
      "|         0.25         |  0.3902439024390244  |  0.3950930536877792  | 0.0048491512487547905 |\n",
      "| 0.30000000000000004  | 0.30769230769230765  | 0.30769230769230765  |          0.0          |\n",
      "|  0.3500000000000001  | 0.24615384615384606  | 0.23844593373813266  |  0.007707912415713392 |\n",
      "| 0.40000000000000013  |  0.1999999999999999  |  0.1999999999999999  |          0.0          |\n",
      "|  0.4500000000000002  | 0.16494845360824734  | 0.17976262990059794  |   0.0148141762923506  |\n",
      "|         0.5          | 0.13793103448275862  | 0.13793103448275862  |          0.0          |\n",
      "|         0.55         | 0.11678832116788321  | 0.08065999342165561  |  0.036128327746227595 |\n",
      "|  0.6000000000000001  | 0.09999999999999998  | 0.09999999999999998  |          0.0          |\n",
      "|  0.6500000000000001  | 0.08648648648648646  | 0.20242261570456085  |  0.11593612921807439  |\n",
      "|  0.7000000000000002  |  0.0754716981132075  |  0.0754716981132075  |          0.0          |\n",
      "|         0.75         | 0.06639004149377593  | -0.44705196070884057 |   0.5134420022026165  |\n",
      "|         0.8          | 0.05882352941176469  | 0.05882352941176469  |          0.0          |\n",
      "|  0.8500000000000001  | 0.052459016393442616 |  3.454957799864209   |   3.4024987834707665  |\n",
      "|  0.9000000000000001  | 0.04705882352941175  | 0.04705882352941175  |          0.0          |\n",
      "|  0.9500000000000002  | 0.04244031830238725  |  -39.9524490330413   |   39.99488935134369   |\n",
      "|         1.0          | 0.038461538461538464 | 0.038461538461538464 |          0.0          |\n",
      "+----------------------+----------------------+----------------------+-----------------------+\n"
     ]
    }
   ],
   "source": [
    "import numpy as np\n",
    "import math\n",
    "import matplotlib.pyplot as plt\n",
    "#定义朗格朗日函数，反回拉格朗日插值法法所得的值\n",
    "def lagrange(s):\n",
    "    t=21\n",
    "    x=[]\n",
    "    f=[]\n",
    "    l=[]\n",
    "    for i in range(t):\n",
    "        x.append(-1+0.1*i)\n",
    "        f.append(1/(1+25*x[i]**2))\n",
    "    for j in range(t):\n",
    "        q=1\n",
    "        for m in range(t):\n",
    "            if(m!=j):\n",
    "                q=q*(s-x[m])/(x[j]-x[m])     \n",
    "        l.append(q)\n",
    "    sum=0\n",
    "    for i in range(t):\n",
    "        sum=sum+f[i]*l[i]\n",
    "    return(sum)\n",
    "p=[]\n",
    "dp=[]\n",
    "a=[-1+0.05*n for n in range(41)]  \n",
    "b=[1/(1+25*a[i]**2) for i in range(41)]\n",
    "for i in range(41):\n",
    "    p.append(lagrange(a[i]))\n",
    "    dp.append(abs(b[i]-lagrange(a[i])))\n",
    "col = PrettyTable()\n",
    "col.add_column(\"x\",a)\n",
    "col.add_column(\"f(x)\",b)\n",
    "col.add_column(\"P(x)\",p)\n",
    "col.add_column(\"|f(x)-P(x)|\",dp)\n",
    "print(col)"
   ]
  },
  {
   "cell_type": "code",
   "execution_count": 105,
   "metadata": {},
   "outputs": [
    {
     "name": "stdout",
     "output_type": "stream",
     "text": [
      "+----------------------+----------------------+----------------------+------------------------+\n",
      "|          x           |         f(x)         |         c(x)         |      |f(x)-c(x)|       |\n",
      "+----------------------+----------------------+----------------------+------------------------+\n",
      "|  0.996917333733128   | 0.03869055042259115  | 0.03869055042259126  | 1.1102230246251565e-16 |\n",
      "|  0.9723699203976766  | 0.040588399387943605 | 0.04058839938794349  | 1.1796119636642288e-16 |\n",
      "|  0.9238795325112867  | 0.044765092294532106 | 0.044765092294532335 | 2.2898349882893854e-16 |\n",
      "|  0.8526401643540923  | 0.05215156157328421  | 0.05215156157328353  | 6.800116025829084e-16  |\n",
      "|  0.7604059656000309  | 0.06470217570115774  |  0.064702175701158   | 2.498001805406602e-16  |\n",
      "|  0.6494480483301838  | 0.08662081571015402  | 0.08662081571015459  | 5.689893001203927e-16  |\n",
      "|  0.5224985647159489  | 0.12779358774382138  | 0.12779358774382096  | 4.163336342344337e-16  |\n",
      "| 0.38268343236508984  | 0.21453862919406327  |  0.2145386291940629  | 3.608224830031759e-16  |\n",
      "| 0.23344536385590547  | 0.42329503521981443  |  0.4232950352198147  | 2.7755575615628914e-16 |\n",
      "|  0.078459095727845   |  0.8666294216328019  |  0.8666294216328009  | 9.992007221626409e-16  |\n",
      "| -0.07845909572784487 |  0.8666294216328022  |  0.866629421632802   | 2.220446049250313e-16  |\n",
      "| -0.23344536385590534 | 0.42329503521981476  |  0.4232950352198155  | 7.216449660063518e-16  |\n",
      "| -0.3826834323650897  | 0.21453862919406333  | 0.21453862919406308  | 2.498001805406602e-16  |\n",
      "| -0.5224985647159488  |  0.1277935877438214  | 0.12779358774382152  | 1.1102230246251565e-16 |\n",
      "| -0.6494480483301835  | 0.08662081571015408  |  0.0866208157101537  | 3.7470027081099033e-16 |\n",
      "| -0.7604059656000309  | 0.06470217570115774  | 0.06470217570115791  | 1.6653345369377348e-16 |\n",
      "| -0.8526401643540922  | 0.05215156157328422  | 0.05215156157328367  |  5.48172618408671e-16  |\n",
      "| -0.9238795325112867  | 0.044765092294532106 | 0.04476509229453224  | 1.3183898417423734e-16 |\n",
      "| -0.9723699203976766  | 0.040588399387943605 |  0.0405883993879437  |  9.71445146547012e-17  |\n",
      "|  -0.996917333733128  | 0.03869055042259115  | 0.03869055042259119  | 4.163336342344337e-17  |\n",
      "| -0.9969173337331281  | 0.03869055042259114  | 0.03869055042259118  | 4.163336342344337e-17  |\n",
      "+----------------------+----------------------+----------------------+------------------------+\n"
     ]
    }
   ],
   "source": [
    "import numpy as np\n",
    "import matplotlib.pyplot as plt\n",
    "import math\n",
    "#Runge函数\n",
    "def f(x):\n",
    "    return(1/(1+25*x**2))\n",
    "#n阶第一类Chebyshev多项式\n",
    "def T1(n,x):\n",
    "    if(n==0):\n",
    "        return(1)\n",
    "    elif(n==1):\n",
    "        return(x)\n",
    "    else:\n",
    "        return(2*x*T1(n-1,x)-T1(n-2,x))\n",
    "#Chebyshev多项式的系数\n",
    "def C1(m):\n",
    "    sum=0\n",
    "    for i in range(20):\n",
    "        sum=sum+f(math.cos(math.pi*(i+1/2)/20))*math.cos(math.pi*m*(i+1/2)/20)\n",
    "    return(sum/10)\n",
    "#近似得到目标函数F\n",
    "def F(x):\n",
    "    sum=C1(0)/2\n",
    "    for i in range(1,20):\n",
    "        sum=sum+C1(i)*T1(i,x)\n",
    "    return(sum)\n",
    "c=[]\n",
    "dc=[]\n",
    "f1=[]\n",
    "x=[]\n",
    "for i in range(21):\n",
    "    x.append(math.cos(math.pi*(i+0.5)/20))\n",
    "for i in range(21):\n",
    "    f1.append(f(x[i]))\n",
    "    c.append(F(x[i]))\n",
    "for i in range(21):\n",
    "    dc.append(abs(f1[i]-c[i]))\n",
    "col = PrettyTable()\n",
    "col.add_column(\"x\",x)\n",
    "col.add_column(\"f(x)\",f1)\n",
    "col.add_column(\"c(x)\",c)\n",
    "col.add_column(\"|f(x)-c(x)|\",dc)\n",
    "print(col)"
   ]
  },
  {
   "cell_type": "code",
   "execution_count": 149,
   "metadata": {},
   "outputs": [
    {
     "name": "stdout",
     "output_type": "stream",
     "text": [
      "+----------------------+----------------------+----------------------+------------------------+\n",
      "|          x           |         f(x)         |       three(x)       |    |f(x)-three(x)|     |\n",
      "+----------------------+----------------------+----------------------+------------------------+\n",
      "|         -1.0         | 0.038461538461538464 | 0.038461538461538464 |          0.0           |\n",
      "|        -0.95         | 0.042440318302387266 | 0.04253421642828388  | 9.389812589661456e-05  |\n",
      "|         -0.9         | 0.047058823529411764 | 0.047058823529411764 |          0.0           |\n",
      "|        -0.85         | 0.05245901639344263  | 0.052431287366732096 | 2.7729026710533733e-05 |\n",
      "|         -0.8         | 0.05882352941176469  | 0.05882352941176469  |          0.0           |\n",
      "|        -0.75         | 0.06639004149377593  | 0.06639405338251333  | 4.011888737401326e-06  |\n",
      "|         -0.7         | 0.07547169811320756  | 0.07547169811320756  |          0.0           |\n",
      "| -0.6499999999999999  | 0.08648648648648652  | 0.08647363117868628  | 1.2855307800235805e-05 |\n",
      "|         -0.6         |         0.1          |         0.1          |          0.0           |\n",
      "|        -0.55         | 0.11678832116788321  | 0.11678687446502874  | 1.446702854471238e-06  |\n",
      "|         -0.5         | 0.13793103448275862  | 0.13793103448275862  |          0.0           |\n",
      "| -0.44999999999999996 | 0.16494845360824745  |  0.1648645573632807  | 8.389624496674131e-05  |\n",
      "| -0.3999999999999999  | 0.20000000000000007  | 0.20000000000000007  |          0.0           |\n",
      "|        -0.35         | 0.24615384615384617  | 0.24626815868131796  | 0.00011431252747179377 |\n",
      "| -0.29999999999999993 |  0.3076923076923078  |  0.3076923076923078  |          0.0           |\n",
      "|        -0.25         |  0.3902439024390244  |  0.3894195718371771  | 0.0008243306018472785  |\n",
      "| -0.19999999999999996 |  0.5000000000000001  |  0.5000000000000001  |          0.0           |\n",
      "| -0.1499999999999999  |  0.6400000000000002  |  0.6431689385853585  |  0.003168938585358272  |\n",
      "| -0.09999999999999998 |         0.8          |         0.8          |          0.0           |\n",
      "| -0.04999999999999993 |  0.9411764705882355  |  0.9388662122829284  |  0.002310258305307067  |\n",
      "|         0.0          |         1.0          |         1.0          |          0.0           |\n",
      "| 0.050000000000000044 |  0.9411764705882353  |  0.9388662122829283  |  0.002310258305306956  |\n",
      "| 0.10000000000000009  |  0.7999999999999997  |  0.7999999999999997  |          0.0           |\n",
      "| 0.15000000000000013  |  0.6399999999999997  |  0.6431689385853578  |  0.003168938585358161  |\n",
      "| 0.20000000000000018  | 0.49999999999999956  | 0.49999999999999956  |          0.0           |\n",
      "|         0.25         |  0.3902439024390244  |  0.3894195718371771  | 0.0008243306018472785  |\n",
      "| 0.30000000000000004  | 0.30769230769230765  |  0.3076923076923076  | 5.551115123125783e-17  |\n",
      "|  0.3500000000000001  | 0.24615384615384606  |  0.2462681586813178  | 0.00011431252747173826 |\n",
      "| 0.40000000000000013  |  0.1999999999999999  | 0.19999999999999987  | 2.7755575615628914e-17 |\n",
      "|  0.4500000000000002  | 0.16494845360824734  | 0.16486455736328062  | 8.389624496671355e-05  |\n",
      "|         0.5          | 0.13793103448275862  | 0.13793103448275865  | 2.7755575615628914e-17 |\n",
      "|         0.55         | 0.11678832116788321  | 0.11678687446502874  | 1.446702854471238e-06  |\n",
      "|  0.6000000000000001  | 0.09999999999999998  | 0.09999999999999998  |          0.0           |\n",
      "|  0.6500000000000001  | 0.08648648648648646  | 0.08647363117868623  | 1.2855307800235805e-05 |\n",
      "|  0.7000000000000002  |  0.0754716981132075  |  0.0754716981132075  |          0.0           |\n",
      "|         0.75         | 0.06639004149377593  | 0.06639405338251332  | 4.011888737387448e-06  |\n",
      "|         0.8          | 0.05882352941176469  | 0.058823529411764684 | 6.938893903907228e-18  |\n",
      "|  0.8500000000000001  | 0.052459016393442616 | 0.05243128736673209  | 2.7729026710526794e-05 |\n",
      "|  0.9000000000000001  | 0.04705882352941175  | 0.04705882352941175  |          0.0           |\n",
      "|  0.9500000000000002  | 0.04244031830238725  | 0.04253421642828386  | 9.389812589660762e-05  |\n",
      "|         1.0          | 0.038461538461538464 | 0.038461538461538464 |          0.0           |\n",
      "+----------------------+----------------------+----------------------+------------------------+\n"
     ]
    }
   ],
   "source": [
    "import numpy\n",
    "import math\n",
    "from prettytable import PrettyTable\n",
    "#求三次样条函数的矩(求解三对角矩阵)\n",
    "def M1(a,b,c,d):#a、c参数是三对角矩阵的非对角元，b为对角元，AX=d\n",
    "    n=len(b)\n",
    "    q=[]\n",
    "    p=[]\n",
    "    x=[]\n",
    "    for j in range(n-1):\n",
    "        q.append(j)\n",
    "    for k in range(n):\n",
    "        p.append(k)\n",
    "        x.append(k)\n",
    "    q[0]=c[0]/b[0]\n",
    "    p[0]=d[0]/b[0]\n",
    "    for i in range(1,n-1):\n",
    "        q[i]=c[i]/(b[i]-q[i-1]*a[i-1])\n",
    "    for j in range(1,n):\n",
    "        p[j]=(d[j]-p[j-1]*a[j-1])/(b[j]-q[j-1]*a[j-1])\n",
    "    x[n-1]=p[n-1]\n",
    "    for k in range(n-2,-1,-1):\n",
    "        x[k]=p[k]-q[k]*x[k+1]\n",
    "    return (x)#反回AX=d的解在一个列表中\n",
    "def f(x):\n",
    "    return(1/(1+25*x**2))\n",
    "#取自然边界条件即m0=mn=0\n",
    "N=21\n",
    "b=[]\n",
    "c=[]\n",
    "a=[]\n",
    "d=[]\n",
    "y=[]\n",
    "x=[]\n",
    "h=[]\n",
    "for i in range(N):\n",
    "    x.append(-1+0.1*i)\n",
    "    y.append(f(x[i]))\n",
    "    b.append(i)\n",
    "    d.append(i)\n",
    "for j in range(N-1):\n",
    "    h.append(x[j+1]-x[j])\n",
    "    a.append(i)\n",
    "    c.append(i)\n",
    "#求求矩所需的三对角矩阵\n",
    "a[N-2]=0\n",
    "c[0]=0\n",
    "b[0]=b[N-1]=1\n",
    "d[0]=d[N-1]=0\n",
    "for i in range(N-2):\n",
    "    a[i]=h[i]/6\n",
    "    c[i+1]=h[i+1]/6\n",
    "for i in range(1,N-1):\n",
    "    b[i]=(h[i-1]+h[i])/3\n",
    "    d[i]=(y[i+1]-y[i])/h[i]-(y[i]-y[i-1])/h[i-1]\n",
    "#矩\n",
    "m=M1(a,b,c,d)\n",
    "#定义三次样条函数\n",
    "def s(g,j):\n",
    "    Aj=(y[j+1]-y[j])/h[j]-h[j]*(m[j+1]-m[j])/6\n",
    "    Bj=y[j]-m[j]*h[j]**2/6\n",
    "    Sj=m[j]*(x[j+1]-g)**3/(6*h[j])+m[j+1]*(g-x[j])**3/(6*h[j])+Aj*(g-x[j])+Bj\n",
    "    return(Sj)\n",
    "three=[]\n",
    "dthree=[]\n",
    "f1=[]\n",
    "l=[]\n",
    "for i in range(41):\n",
    "    l.append(-1+0.05*i)\n",
    "for i in range(41):\n",
    "    f1.append(f(l[i]))\n",
    "    z=int((i-1)/2)\n",
    "    three.append(s(l[i],z))\n",
    "for i in range(41):\n",
    "    dthree.append(abs(f1[i]-three[i]))\n",
    "col = PrettyTable()\n",
    "col.add_column(\"x\",l)\n",
    "col.add_column(\"f(x)\",f1)\n",
    "col.add_column(\"three(x)\",three)\n",
    "col.add_column(\"|f(x)-three(x)|\",dthree)\n",
    "print(col)"
   ]
  },
  {
   "cell_type": "code",
   "execution_count": 113,
   "metadata": {},
   "outputs": [
    {
     "name": "stdout",
     "output_type": "stream",
     "text": [
      "+---+-------------------------+------------------------+\n",
      "| t |           X(t)          |          Y(t)          |\n",
      "+---+-------------------------+------------------------+\n",
      "| 0 |           0.0           |          0.0           |\n",
      "| 1 |   0.20710678118654752   |  0.20710678118654752   |\n",
      "| 2 |  6.123233995736765e-17  |   0.9999999999999999   |\n",
      "| 3 |   -1.2071067811865475   |   1.2071067811865475   |\n",
      "| 4 |           -2.0          | 2.4492935982947064e-16 |\n",
      "| 5 |    -1.207106781186548   |  -1.2071067811865475   |\n",
      "| 6 | -1.8369701987210302e-16 |  -1.0000000000000002   |\n",
      "| 7 |    0.2071067811865476   |  -0.20710678118654768  |\n",
      "| 8 |           0.0           |          -0.0          |\n",
      "+---+-------------------------+------------------------+\n"
     ]
    }
   ],
   "source": [
    "import numpy\n",
    "import math\n",
    "from prettytable import PrettyTable\n",
    "def Xt(t):\n",
    "    r=(1-math.cos(math.pi*t/4))*math.cos(math.pi*t/4)\n",
    "    return(r)\n",
    "def Yt(t):\n",
    "    r=(1-math.cos(math.pi*t/4))*math.sin(math.pi*t/4)\n",
    "    return(r)\n",
    "x=[n for n in range(9)]\n",
    "xt=[Xt(n) for n in range(9)]\n",
    "yt=[Yt(n) for n in range(9)]\n",
    "col = PrettyTable()\n",
    "col.add_column(\"t\",x)\n",
    "col.add_column(\"X(t)\",xt)\n",
    "col.add_column(\"Y(t)\",yt)\n",
    "print(col)"
   ]
  },
  {
   "cell_type": "markdown",
   "metadata": {},
   "source": [
    "$$3a$$"
   ]
  },
  {
   "cell_type": "markdown",
   "metadata": {},
   "source": [
    "<font face=\"宋体\">化简\n",
    "$$\\begin{eqnarray}\n",
    "\\mathcal{Z}_{00}(1;q^2)&=&\\sum_\\boldsymbol{n}\\frac{e^{q^2-\\boldsymbol{n}^2}}{\\sqrt{4\\pi}\\cdot (\\boldsymbol{n}^2-q^2)}+\\frac{\\pi}{2}\\int_0^1dt\\cdot t^{-3/2}(e^{tq^2}-1)+\\pi\\int_0^1dt\\cdot t^{-3/2}\\sum_{\\boldsymbol{n}\\neq0}\\frac{e^{tq^2}e^{-(\\pi^2/t)\\boldsymbol{n}^2}}{\\sqrt{4\\pi}}-\\pi\\\\\n",
    "&=&\\sum_\\boldsymbol{n}\\frac{e^{q^2-\\boldsymbol{n}^2}}{\\sqrt{4\\pi}\\cdot (\\boldsymbol{n}^2-q^2)}+\\pi\\cdot(\\sum_\\boldsymbol{n}\\frac{q^{2n}}{n!\\cdot(2n-1)}-1)+\\pi\\int_0^1dt\\cdot t^{-3/2}\\sum_{\\boldsymbol{n}\\neq0}\\frac{e^{tq^2}e^{-(\\pi^2/t)\\boldsymbol{n}^2}}{\\sqrt{4\\pi}}-\\pi\\\\\n",
    "&=&\\sum_\\boldsymbol{n}\\frac{e^{q^2-\\boldsymbol{n}^2}}{\\sqrt{4\\pi}\\cdot (\\boldsymbol{n}^2-q^2)}+\\sum_\\boldsymbol{n}\\frac{\\pi\\cdot q^{2n}}{n!\\cdot(2n-1)}+\\pi\\int_0^1dt\\cdot t^{-3/2}\\sum_{\\boldsymbol{n}\\neq0}\\frac{e^{tq^2}e^{-(\\pi^2/t)\\boldsymbol{n}^2}}{\\sqrt{4\\pi}}-2\\pi\n",
    "\\end{eqnarray}$$\n",
    "将上式中四项分别记为$A$，$B$，$C$，$D$，并记积分项$C$中的求和项为$E(t)$\n",
    "$$\\begin{eqnarray}\n",
    "A&=&\\sum_\\boldsymbol{n}\\frac{e^{q^2-\\boldsymbol{n}^2}}{\\sqrt{4\\pi}\\cdot (\\boldsymbol{n}^2-q^2)}\\\\\n",
    "B&=&\\sum_\\boldsymbol{n}\\frac{\\pi\\cdot q^{2n}}{n!\\cdot(2n-1)}\\\\\n",
    "C&=&\\pi\\int_0^1dt\\cdot t^{-3/2}\\sum_{\\boldsymbol{n}\\neq0}\\frac{e^{tq^2}e^{-(\\pi^2/t)\\boldsymbol{n}^2}}{\\sqrt{4\\pi}}=\\pi\\int_0^1dt\\cdot t^{-3/2}\\cdot E(t)\\\\\n",
    "D&=&-2\\pi\n",
    "\\end{eqnarray}$$</font>"
   ]
  },
  {
   "cell_type": "code",
   "execution_count": 7,
   "metadata": {},
   "outputs": [
    {
     "name": "stderr",
     "output_type": "stream",
     "text": [
      "F:\\phython\\install\\lib\\site-packages\\ipykernel_launcher.py:17: RuntimeWarning: divide by zero encountered in true_divide\n"
     ]
    },
    {
     "name": "stdout",
     "output_type": "stream",
     "text": [
      "q^2的值为：0.719027\n"
     ]
    },
    {
     "data": {
      "image/png": "[encoded data removed]",
      "text/plain": [
       "<matplotlib.figure.Figure at 0x2983f7fee10>"
      ]
     },
     "metadata": {},
     "output_type": "display_data"
    }
   ],
   "source": [
    "#输出数据时用到了文件包“prettytable.py”\n",
    "import math\n",
    "import numpy as np\n",
    "import matplotlib.pyplot as plt\n",
    "from prettytable import PrettyTable\n",
    "#第一项求和\n",
    "def F1(Q1,N1):\n",
    "    count1=0\n",
    "    sum2=0\n",
    "    for i in range(-int(math.sqrt(N1))-1,int(math.sqrt(N1))+2):\n",
    "        for j in range(-int(math.sqrt(N1))-1,int(math.sqrt(N1))+2):\n",
    "            for k in range(-int(math.sqrt(N1))-1,int(math.sqrt(N1))+2):\n",
    "                if(i**2+j**2+k**2==N1):\n",
    "                    count1=count1+1\n",
    "                    sum2=sum2+np.exp(Q1-i**2-j**2-k**2)/(i**2+j**2+k**2-Q1)\n",
    "                elif(i**2+j**2+k**2<N1):\n",
    "                    sum2=sum2+np.exp(Q1-i**2-j**2-k**2)/(i**2+j**2+k**2-Q1)\n",
    "    return([count1,sum2/(math.sqrt(4*math.pi))])           \n",
    "#第二项求和\n",
    "def F2(Q2):\n",
    "    sum2=0\n",
    "    M2=100\n",
    "    for i in range(1,M2):\n",
    "        mm=1\n",
    "        for j in range(1,i+1):\n",
    "            mm=mm*j\n",
    "        sum2=sum2+math.pi*Q2**i/((2*i-1)*mm)\n",
    "    return(math.pi*sum2)   \n",
    "#第三项:先用高斯积分法积分\n",
    "#高斯节点与对应的系数\n",
    "X=[0.93246951,-0.93246951,0.66120939,-0.66120939,0.23861919,-0.23861919]\n",
    "K=[0.17132449,0.17132449,0.36076157,0.36076157,0.46791393,0.46791393]\n",
    "def f3(q3,n3,t3):#定义被积函数并将积分区间变为【-1,1】\n",
    "    return((t3/2+0.5)**(-1.5)*np.exp((t3/2+0.5)*q3-(2*math.pi**2/(t3+1))*n3))\n",
    "def Gauss(q31,n31):\n",
    "    sum31=0\n",
    "    for i in range(len(X)):\n",
    "        sum31=sum31+K[i]*f3(q31,n31,X[i])\n",
    "    return(sum31/2)#转换积分区间时多出系数1/2\n",
    "def F3(Q3,N3):\n",
    "    count3=0\n",
    "    sum3=0\n",
    "    for i in range(-int(math.sqrt(N3))-1,int(math.sqrt(N3))+2):\n",
    "        for j in range(-int(math.sqrt(N3))-1,int(math.sqrt(N3))+2):\n",
    "            for k in range(-int(math.sqrt(N3))-1,int(math.sqrt(N3))+2):\n",
    "                if(i**2+j**2+k**2!=0):\n",
    "                    if(i**2+j**2+k**2==N3):\n",
    "                        count3=count3+1\n",
    "                        sum3=sum3+Gauss(Q3,i**2+j**2+k**2)\n",
    "                    elif(i**2+j**2+k**2<N3):\n",
    "                        sum3=sum3+Gauss(Q3,i**2+j**2+k**2)\n",
    "    return([count3,0.5*math.sqrt(math.pi)*sum3])\n",
    "def F(Q,N):\n",
    "    s=F1(Q,N)[1]+F2(Q)+F3(Q,N)[1]-math.pi\n",
    "    return(s)\n",
    "X1=np.linspace(0.1,1,200)\n",
    "Y1=[0 for i in range(200)]\n",
    "plt.plot(X1,F(X1,20)-math.pi**1.5*(1+X1))\n",
    "plt.ylim(-10,100)\n",
    "plt.plot(X1,Y1)\n",
    "#用二分法求解方程\n",
    "def y(G):\n",
    "    g=F(G,20)-math.pi**1.5*(1+G)\n",
    "    return(g)\n",
    "#由图知道根在0.8附近\n",
    "a1,a2=[0.1,0.9]\n",
    "b=(a1+a2)/2\n",
    "while(abs(y(b))>10**(-6)):\n",
    "    if(y(b)<0):\n",
    "        a1=b\n",
    "    elif(y(b)>0):\n",
    "        a2=b\n",
    "    b=(a1+a2)/2\n",
    "print(\"q^2的值为：%.6f\"%b)"
   ]
  },
  {
   "cell_type": "code",
   "execution_count": null,
   "metadata": {},
   "outputs": [],
   "source": []
  }
 ],
 "metadata": {
  "kernelspec": {
   "display_name": "Python 3",
   "language": "python",
   "name": "python3"
  },
  "language_info": {
   "codemirror_mode": {
    "name": "ipython",
    "version": 3
   },
   "file_extension": ".py",
   "mimetype": "text/x-python",
   "name": "python",
   "nbconvert_exporter": "python",
   "pygments_lexer": "ipython3",
   "version": "3.6.4"
  }
 },
 "nbformat": 4,
 "nbformat_minor": 2
}
