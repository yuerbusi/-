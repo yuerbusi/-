{
 "cells": [
  {
   "cell_type": "markdown",
   "metadata": {},
   "source": [
    "#计算物理第二次作业"
   ]
  },
  {
   "cell_type": "markdown",
   "metadata": {},
   "source": [
    "$$1.(a)$$"
   ]
  },
  {
   "cell_type": "code",
   "execution_count": 14,
   "metadata": {},
   "outputs": [
    {
     "name": "stdout",
     "output_type": "stream",
     "text": [
      "+----------------------+----------------------+----------------------+-----------------------+\n",
      "|          x           |         f(x)         |         P(x)         |      |f(x)-P(x)|      |\n",
      "+----------------------+----------------------+----------------------+-----------------------+\n",
      "|         -1.0         | 0.038461538461538464 | 0.038461538461538464 |          0.0          |\n",
      "|        -0.95         | 0.042440318302387266 |  -39.95244903304148  |   39.99488935134387   |\n",
      "|         -0.9         | 0.047058823529411764 | 0.047058823529411764 |          0.0          |\n",
      "|        -0.85         | 0.05245901639344263  |  3.4549577998641214  |   3.402498783470679   |\n",
      "|         -0.8         | 0.05882352941176469  | 0.05882352941176469  |          0.0          |\n",
      "|        -0.75         | 0.06639004149377593  | -0.4470519607088397  |   0.5134420022026156  |\n",
      "|         -0.7         | 0.07547169811320756  | 0.07547169811320756  |          0.0          |\n",
      "| -0.6499999999999999  | 0.08648648648648652  | 0.20242261570456302  |   0.1159361292180765  |\n",
      "|         -0.6         |         0.1          |         0.1          |          0.0          |\n",
      "|        -0.55         | 0.11678832116788321  |  0.0806599934216564  |  0.036128327746226804 |\n",
      "|         -0.5         | 0.13793103448275862  | 0.13793103448275862  |          0.0          |\n",
      "| -0.44999999999999996 | 0.16494845360824745  | 0.17976262990059816  |  0.014814176292350711 |\n",
      "| -0.3999999999999999  | 0.20000000000000007  | 0.20000000000000007  |          0.0          |\n",
      "|        -0.35         | 0.24615384615384617  | 0.23844593373813294  |  0.007707912415713225 |\n",
      "| -0.29999999999999993 |  0.3076923076923078  |  0.3076923076923078  |          0.0          |\n",
      "|        -0.25         |  0.3902439024390244  | 0.39509305368777975  |  0.004849151248755346 |\n",
      "| -0.19999999999999996 |  0.5000000000000001  |  0.5000000000000001  |          0.0          |\n",
      "| -0.1499999999999999  |  0.6400000000000002  |  0.6367553359164332  | 0.0032446640835670504 |\n",
      "| -0.09999999999999998 |         0.8          |         0.8          |          0.0          |\n",
      "| -0.04999999999999993 |  0.9411764705882355  |  0.9424903797439846  | 0.0013139091557491378 |\n",
      "|         0.0          |         1.0          |         1.0          |          0.0          |\n",
      "| 0.050000000000000044 |  0.9411764705882353  |  0.9424903797439846  | 0.0013139091557493598 |\n",
      "| 0.10000000000000009  |  0.7999999999999997  |  0.7999999999999997  |          0.0          |\n",
      "| 0.15000000000000013  |  0.6399999999999997  |  0.6367553359164324  | 0.0032446640835672724 |\n",
      "| 0.20000000000000018  | 0.49999999999999956  | 0.49999999999999956  |          0.0          |\n",
      "|         0.25         |  0.3902439024390244  |  0.3950930536877792  | 0.0048491512487547905 |\n",
      "| 0.30000000000000004  | 0.30769230769230765  | 0.30769230769230765  |          0.0          |\n",
      "|  0.3500000000000001  | 0.24615384615384606  | 0.23844593373813266  |  0.007707912415713392 |\n",
      "| 0.40000000000000013  |  0.1999999999999999  |  0.1999999999999999  |          0.0          |\n",
      "|  0.4500000000000002  | 0.16494845360824734  | 0.17976262990059794  |   0.0148141762923506  |\n",
      "|         0.5          | 0.13793103448275862  | 0.13793103448275862  |          0.0          |\n",
      "|         0.55         | 0.11678832116788321  | 0.08065999342165561  |  0.036128327746227595 |\n",
      "|  0.6000000000000001  | 0.09999999999999998  | 0.09999999999999998  |          0.0          |\n",
      "|  0.6500000000000001  | 0.08648648648648646  | 0.20242261570456085  |  0.11593612921807439  |\n",
      "|  0.7000000000000002  |  0.0754716981132075  |  0.0754716981132075  |          0.0          |\n",
      "|         0.75         | 0.06639004149377593  | -0.44705196070884057 |   0.5134420022026165  |\n",
      "|         0.8          | 0.05882352941176469  | 0.05882352941176469  |          0.0          |\n",
      "|  0.8500000000000001  | 0.052459016393442616 |  3.454957799864209   |   3.4024987834707665  |\n",
      "|  0.9000000000000001  | 0.04705882352941175  | 0.04705882352941175  |          0.0          |\n",
      "|  0.9500000000000002  | 0.04244031830238725  |  -39.9524490330413   |   39.99488935134369   |\n",
      "|         1.0          | 0.038461538461538464 | 0.038461538461538464 |          0.0          |\n",
      "+----------------------+----------------------+----------------------+-----------------------+\n"
     ]
    }
   ],
   "source": [
    "#输出数据时用到了文件包“prettytable.py”\n",
    "import numpy as np\n",
    "import math\n",
    "import matplotlib.pyplot as plt\n",
    "from prettytable import PrettyTable\n",
    "#定义朗格朗日函数，反回拉格朗日插值法法所得的值\n",
    "def lagrange(s):\n",
    "    t=21\n",
    "    x=[]\n",
    "    f=[]\n",
    "    l=[]\n",
    "    for i in range(t):\n",
    "        x.append(-1+0.1*i)\n",
    "        f.append(1/(1+25*x[i]**2))\n",
    "    for j in range(t):\n",
    "        q=1\n",
    "        for m in range(t):\n",
    "            if(m!=j):\n",
    "                q=q*(s-x[m])/(x[j]-x[m])     \n",
    "        l.append(q)\n",
    "    sum=0\n",
    "    for i in range(t):\n",
    "        sum=sum+f[i]*l[i]\n",
    "    return(sum)\n",
    "t=21\n",
    "x=[]\n",
    "f=[]\n",
    "l=[]\n",
    "for i in range(t):\n",
    "    x.append(-1+0.1*i)\n",
    "    f.append(1/(1+25*x[i]**2))\n",
    "p=[]\n",
    "dp=[]\n",
    "a=[-1+0.05*n for n in range(41)]  \n",
    "b=[1/(1+25*a[i]**2) for i in range(41)]\n",
    "for i in range(41):\n",
    "    p.append(lagrange(a[i]))\n",
    "    dp.append(abs(b[i]-lagrange(a[i])))\n",
    "col = PrettyTable()\n",
    "col.add_column(\"x\",a)\n",
    "col.add_column(\"f(x)\",b)\n",
    "col.add_column(\"P(x)\",p)\n",
    "col.add_column(\"|f(x)-P(x)|\",dp)\n",
    "print(col)"
   ]
  },
  {
   "cell_type": "code",
   "execution_count": 23,
   "metadata": {},
   "outputs": [
    {
     "data": {
      "text/plain": [
       "[<matplotlib.lines.Line2D at 0x1c378f41ba8>]"
      ]
     },
     "execution_count": 23,
     "metadata": {},
     "output_type": "execute_result"
    },
    {
     "data": {
      "image/png": "[encoded data removed]",
      "text/plain": [
       "<matplotlib.figure.Figure at 0x1c378f41a58>"
      ]
     },
     "metadata": {},
     "output_type": "display_data"
    }
   ],
   "source": [
    "import numpy as np\n",
    "import matplotlib.pyplot as plt\n",
    "#定义朗格朗日函数，反回拉格朗日插值法法所得的值\n",
    "def lagrange(s):\n",
    "    t=21\n",
    "    x=[]\n",
    "    f=[]\n",
    "    l=[]\n",
    "    for i in range(t):\n",
    "        x.append(-1+0.1*i)\n",
    "        f.append(1/(1+25*x[i]**2))\n",
    "    for j in range(t):\n",
    "        q=1\n",
    "        for m in range(t):\n",
    "            if(m!=j):\n",
    "                q=q*(s-x[m])/(x[j]-x[m])     \n",
    "        l.append(q)\n",
    "    sum=0\n",
    "    for i in range(t):\n",
    "        sum=sum+f[i]*l[i]\n",
    "    return(sum)\n",
    "x=np.linspace(-1,1,200)\n",
    "#绘图\n",
    "plt.plot(x,lagrange(x))\n",
    "plt.ylim(-1,5)\n",
    "plt.plot(x,1/(1+25*x**2))"
   ]
  },
  {
   "cell_type": "markdown",
   "metadata": {},
   "source": [
    "$$1b$$"
   ]
  },
  {
   "cell_type": "code",
   "execution_count": 17,
   "metadata": {},
   "outputs": [
    {
     "name": "stdout",
     "output_type": "stream",
     "text": [
      "+-----------------------+----------------------+----------------------+------------------------+\n",
      "|           x           |         f(x)         |         c(x)         |      |f(x)-c(x)|       |\n",
      "+-----------------------+----------------------+----------------------+------------------------+\n",
      "|   0.996917333733128   | 0.03869055042259115  | 0.03869055042259126  | 1.1102230246251565e-16 |\n",
      "|   0.9846436270654022  | 0.03962267044383162  |  0.0410124239924959  | 0.0013897535486642743  |\n",
      "|   0.9723699203976766  | 0.040588399387943605 | 0.04058839938794349  | 1.1796119636642288e-16 |\n",
      "|   0.9481247264544816  | 0.04260120862978102  | 0.041027751076210955 | 0.0015734575535700651  |\n",
      "|   0.9238795325112867  | 0.044765092294532106 | 0.044765092294532335 | 2.2898349882893854e-16 |\n",
      "|   0.8882598484326896  | 0.04825058119056361  | 0.05005122950927825  |  0.00180064831871464   |\n",
      "|   0.8526401643540923  | 0.05215156157328421  | 0.05215156157328353  | 6.800116025829084e-16  |\n",
      "|   0.8065230649770616  | 0.057930760645491866 | 0.055760914785947885 | 0.0021698458595439812  |\n",
      "|   0.7604059656000309  | 0.06470217570115774  |  0.064702175701158   | 2.498001805406602e-16  |\n",
      "|   0.7049270069651074  | 0.07449870494508667  | 0.07729383136464853  | 0.0027951264195618525  |\n",
      "|   0.6494480483301838  | 0.08662081571015402  | 0.08662081571015459  | 5.689893001203927e-16  |\n",
      "|   0.5859733065230663  | 0.10433928406814191  | 0.10042106388254064  | 0.0039182201856012705  |\n",
      "|   0.5224985647159489  | 0.12779358774382138  | 0.12779358774382096  | 4.163336342344337e-16  |\n",
      "|   0.4525909985405194  | 0.16337292422875904  | 0.16951113865383954  | 0.0061382144250805015  |\n",
      "|  0.38268343236508984  | 0.21453862919406327  |  0.2145386291940629  | 3.608224830031759e-16  |\n",
      "|   0.3080643981104977  |  0.2965078636990348  |  0.2853642711711832  |  0.011143592527851631  |\n",
      "|  0.23344536385590547  | 0.42329503521981443  |  0.4232950352198147  | 2.7755575615628914e-16 |\n",
      "|  0.15595222979187523  |  0.6218799314381613  |  0.6452554881604623  |  0.02337555672230096   |\n",
      "|   0.078459095727845   |  0.8666294216328019  |  0.8666294216328009  | 9.992007221626409e-16  |\n",
      "| 6.245004513516506e-17 |         1.0          |  0.962409671107093   |  0.03759032889290703   |\n",
      "|  -0.07845909572784487 |  0.8666294216328022  |  0.866629421632802   | 2.220446049250313e-16  |\n",
      "|  -0.15595222979187512 |  0.6218799314381618  |  0.6452554881604632  |  0.023375556722301405  |\n",
      "|  -0.23344536385590534 | 0.42329503521981476  |  0.4232950352198155  | 7.216449660063518e-16  |\n",
      "|  -0.3080643981104975  | 0.29650786369903503  | 0.28536427117118324  |  0.011143592527851798  |\n",
      "|  -0.3826834323650897  | 0.21453862919406333  | 0.21453862919406308  | 2.498001805406602e-16  |\n",
      "|  -0.45259099854051926 | 0.16337292422875913  |  0.1695111386538401  |  0.006138214425080973  |\n",
      "|  -0.5224985647159488  |  0.1277935877438214  | 0.12779358774382152  | 1.1102230246251565e-16 |\n",
      "|  -0.5859733065230661  | 0.10433928406814197  | 0.10042106388254038  |  0.00391822018560159   |\n",
      "|  -0.6494480483301835  | 0.08662081571015408  |  0.0866208157101537  | 3.7470027081099033e-16 |\n",
      "|  -0.7049270069651072  |  0.0744987049450867  | 0.07729383136464772  |  0.00279512641956102   |\n",
      "|  -0.7604059656000309  | 0.06470217570115774  | 0.06470217570115791  | 1.6653345369377348e-16 |\n",
      "|  -0.8065230649770616  | 0.057930760645491866 | 0.05576091478594823  | 0.0021698458595436343  |\n",
      "|  -0.8526401643540922  | 0.05215156157328422  | 0.05215156157328367  |  5.48172618408671e-16  |\n",
      "|  -0.8882598484326895  | 0.048250581190563614 | 0.05005122950927815  | 0.0018006483187145358  |\n",
      "|  -0.9238795325112867  | 0.044765092294532106 | 0.04476509229453224  | 1.3183898417423734e-16 |\n",
      "|  -0.9481247264544816  | 0.04260120862978102  | 0.041027751076211066 |  0.001573457553569954  |\n",
      "|  -0.9723699203976766  | 0.040588399387943605 |  0.0405883993879437  |  9.71445146547012e-17  |\n",
      "|  -0.9846436270654022  | 0.03962267044383162  | 0.04101242399249605  |  0.001389753548664427  |\n",
      "|   -0.996917333733128  | 0.03869055042259115  | 0.03869055042259119  | 4.163336342344337e-17  |\n",
      "|  -0.9969173337331281  | 0.03869055042259114  | 0.03869055042259118  | 4.163336342344337e-17  |\n",
      "|  -0.9969173337331281  | 0.03869055042259114  | 0.03869055042259118  | 4.163336342344337e-17  |\n",
      "+-----------------------+----------------------+----------------------+------------------------+\n"
     ]
    }
   ],
   "source": [
    "import numpy as np\n",
    "import matplotlib.pyplot as plt\n",
    "import math\n",
    "#Runge函数\n",
    "def f(x):\n",
    "    return(1/(1+25*x**2))\n",
    "#n阶第一类Chebyshev多项式\n",
    "def T1(n,x):\n",
    "    if(n==0):\n",
    "        return(1)\n",
    "    elif(n==1):\n",
    "        return(x)\n",
    "    else:\n",
    "        return(2*x*T1(n-1,x)-T1(n-2,x))\n",
    "#Chebyshev多项式的系数\n",
    "def C1(m):\n",
    "    sum=0\n",
    "    for i in range(20):\n",
    "        sum=sum+f(math.cos(math.pi*(i+1/2)/20))*math.cos(math.pi*m*(i+1/2)/20)\n",
    "    return(sum/10)\n",
    "#近似得到目标函数F\n",
    "def F(x):\n",
    "    sum=C1(0)/2\n",
    "    for i in range(1,20):\n",
    "        sum=sum+C1(i)*T1(i,x)\n",
    "    return(sum)\n",
    "c=[]\n",
    "dc=[]\n",
    "f1=[]\n",
    "x=[]\n",
    "a=[]\n",
    "for i in range(21):\n",
    "    a.append(math.cos(math.pi*(i+0.5)/20))\n",
    "for i in range(20):\n",
    "    b=(a[i]+a[i+1])/2\n",
    "    x.append(a[i])\n",
    "    x.append(b)\n",
    "x.append(a[20])\n",
    "for i in range(41):\n",
    "    f1.append(f(x[i]))\n",
    "    c.append(F(x[i]))\n",
    "for i in range(41):\n",
    "    dc.append(abs(f1[i]-c[i]))\n",
    "col = PrettyTable()\n",
    "col.add_column(\"x\",x)\n",
    "col.add_column(\"f(x)\",f1)\n",
    "col.add_column(\"c(x)\",c)\n",
    "col.add_column(\"|f(x)-c(x)|\",dc)\n",
    "print(col)"
   ]
  },
  {
   "cell_type": "markdown",
   "metadata": {},
   "source": [
    "忽略在函数值上由于机器精度导致的微小差别，同1a相比Chebyshev多项式的插值更稳定（由图像明显可以看出lagrange内插出现了明显的误差）"
   ]
  },
  {
   "cell_type": "code",
   "execution_count": 5,
   "metadata": {},
   "outputs": [
    {
     "data": {
      "text/plain": [
       "[<matplotlib.lines.Line2D at 0x232f214f4a8>]"
      ]
     },
     "execution_count": 5,
     "metadata": {},
     "output_type": "execute_result"
    },
    {
     "data": {
      "image/png": "[encoded data removed]",
      "text/plain": [
       "<matplotlib.figure.Figure at 0x232f1f0a860>"
      ]
     },
     "metadata": {},
     "output_type": "display_data"
    }
   ],
   "source": [
    "import numpy as np\n",
    "import matplotlib.pyplot as plt\n",
    "import math\n",
    "#Runge函数\n",
    "def f(x):\n",
    "    return(1/(1+25*x**2))\n",
    "#n阶第一类Chebyshev多项式\n",
    "def T1(n,x):\n",
    "    if(n==0):\n",
    "        return(1)\n",
    "    elif(n==1):\n",
    "        return(x)\n",
    "    else:\n",
    "        return(2*x*T1(n-1,x)-T1(n-2,x))\n",
    "#Chebyshev多项式的系数\n",
    "def C1(m):\n",
    "    sum=0\n",
    "    for i in range(20):\n",
    "        sum=sum+f(math.cos(math.pi*(i+1/2)/20))*math.cos(math.pi*m*(i+1/2)/20)\n",
    "    return(sum/10)\n",
    "#近似得到目标函数F\n",
    "def F(x):\n",
    "    sum=C1(0)/2\n",
    "    for i in range(1,20):\n",
    "        sum=sum+C1(i)*T1(i,x)\n",
    "    return(sum)\n",
    "x=np.linspace(-1,1,200)\n",
    "plt.plot(x,F(x))\n",
    "plt.plot(x,f(x))"
   ]
  },
  {
   "cell_type": "markdown",
   "metadata": {},
   "source": [
    "$$1c$$"
   ]
  },
  {
   "cell_type": "code",
   "execution_count": 31,
   "metadata": {},
   "outputs": [
    {
     "name": "stdout",
     "output_type": "stream",
     "text": [
      "+----------------------+----------------------+----------------------+------------------------+\n",
      "|          x           |         f(x)         |       three(x)       |    |f(x)-three(x)|     |\n",
      "+----------------------+----------------------+----------------------+------------------------+\n",
      "|         -1.0         | 0.038461538461538464 | 0.038461538461538464 |          0.0           |\n",
      "|        -0.95         | 0.042440318302387266 | 0.04253421642828388  | 9.389812589661456e-05  |\n",
      "|         -0.9         | 0.047058823529411764 | 0.047058823529411764 |          0.0           |\n",
      "|        -0.85         | 0.05245901639344263  | 0.052431287366732096 | 2.7729026710533733e-05 |\n",
      "|         -0.8         | 0.05882352941176469  | 0.05882352941176469  |          0.0           |\n",
      "|        -0.75         | 0.06639004149377593  | 0.06639405338251333  | 4.011888737401326e-06  |\n",
      "|         -0.7         | 0.07547169811320756  | 0.07547169811320756  |          0.0           |\n",
      "| -0.6499999999999999  | 0.08648648648648652  | 0.08647363117868628  | 1.2855307800235805e-05 |\n",
      "|         -0.6         |         0.1          |         0.1          |          0.0           |\n",
      "|        -0.55         | 0.11678832116788321  | 0.11678687446502874  | 1.446702854471238e-06  |\n",
      "|         -0.5         | 0.13793103448275862  | 0.13793103448275862  |          0.0           |\n",
      "| -0.44999999999999996 | 0.16494845360824745  |  0.1648645573632807  | 8.389624496674131e-05  |\n",
      "| -0.3999999999999999  | 0.20000000000000007  | 0.20000000000000007  |          0.0           |\n",
      "|        -0.35         | 0.24615384615384617  | 0.24626815868131796  | 0.00011431252747179377 |\n",
      "| -0.29999999999999993 |  0.3076923076923078  |  0.3076923076923078  |          0.0           |\n",
      "|        -0.25         |  0.3902439024390244  |  0.3894195718371771  | 0.0008243306018472785  |\n",
      "| -0.19999999999999996 |  0.5000000000000001  |  0.5000000000000001  |          0.0           |\n",
      "| -0.1499999999999999  |  0.6400000000000002  |  0.6431689385853585  |  0.003168938585358272  |\n",
      "| -0.09999999999999998 |         0.8          |         0.8          |          0.0           |\n",
      "| -0.04999999999999993 |  0.9411764705882355  |  0.9388662122829284  |  0.002310258305307067  |\n",
      "|         0.0          |         1.0          |         1.0          |          0.0           |\n",
      "| 0.050000000000000044 |  0.9411764705882353  |  0.9388662122829283  |  0.002310258305306956  |\n",
      "| 0.10000000000000009  |  0.7999999999999997  |  0.7999999999999997  |          0.0           |\n",
      "| 0.15000000000000013  |  0.6399999999999997  |  0.6431689385853578  |  0.003168938585358161  |\n",
      "| 0.20000000000000018  | 0.49999999999999956  | 0.49999999999999956  |          0.0           |\n",
      "|         0.25         |  0.3902439024390244  |  0.3894195718371771  | 0.0008243306018472785  |\n",
      "| 0.30000000000000004  | 0.30769230769230765  |  0.3076923076923076  | 5.551115123125783e-17  |\n",
      "|  0.3500000000000001  | 0.24615384615384606  |  0.2462681586813178  | 0.00011431252747173826 |\n",
      "| 0.40000000000000013  |  0.1999999999999999  | 0.19999999999999987  | 2.7755575615628914e-17 |\n",
      "|  0.4500000000000002  | 0.16494845360824734  | 0.16486455736328062  | 8.389624496671355e-05  |\n",
      "|         0.5          | 0.13793103448275862  | 0.13793103448275865  | 2.7755575615628914e-17 |\n",
      "|         0.55         | 0.11678832116788321  | 0.11678687446502874  | 1.446702854471238e-06  |\n",
      "|  0.6000000000000001  | 0.09999999999999998  | 0.09999999999999998  |          0.0           |\n",
      "|  0.6500000000000001  | 0.08648648648648646  | 0.08647363117868623  | 1.2855307800235805e-05 |\n",
      "|  0.7000000000000002  |  0.0754716981132075  |  0.0754716981132075  |          0.0           |\n",
      "|         0.75         | 0.06639004149377593  | 0.06639405338251332  | 4.011888737387448e-06  |\n",
      "|         0.8          | 0.05882352941176469  | 0.058823529411764684 | 6.938893903907228e-18  |\n",
      "|  0.8500000000000001  | 0.052459016393442616 | 0.05243128736673209  | 2.7729026710526794e-05 |\n",
      "|  0.9000000000000001  | 0.04705882352941175  | 0.04705882352941175  |          0.0           |\n",
      "|  0.9500000000000002  | 0.04244031830238725  | 0.04253421642828386  | 9.389812589660762e-05  |\n",
      "|         1.0          | 0.038461538461538464 | 0.038461538461538464 |          0.0           |\n",
      "+----------------------+----------------------+----------------------+------------------------+\n"
     ]
    }
   ],
   "source": [
    "import numpy\n",
    "import math\n",
    "from prettytable import PrettyTable\n",
    "#求三次样条函数的矩(求解三对角矩阵)\n",
    "def M1(a,b,c,d):#a、c参数是三对角矩阵的非对角元，b为对角元，AX=d\n",
    "    n=len(b)\n",
    "    q=[]\n",
    "    p=[]\n",
    "    x=[]\n",
    "    for j in range(n-1):\n",
    "        q.append(j)\n",
    "    for k in range(n):\n",
    "        p.append(k)\n",
    "        x.append(k)\n",
    "    q[0]=c[0]/b[0]\n",
    "    p[0]=d[0]/b[0]\n",
    "    for i in range(1,n-1):\n",
    "        q[i]=c[i]/(b[i]-q[i-1]*a[i-1])\n",
    "    for j in range(1,n):\n",
    "        p[j]=(d[j]-p[j-1]*a[j-1])/(b[j]-q[j-1]*a[j-1])\n",
    "    x[n-1]=p[n-1]\n",
    "    for k in range(n-2,-1,-1):\n",
    "        x[k]=p[k]-q[k]*x[k+1]\n",
    "    return (x)#反回AX=d的解在一个列表中\n",
    "def f(x):\n",
    "    return(1/(1+25*x**2))\n",
    "#取自然边界条件即m0=mn=0\n",
    "N=21\n",
    "b=[]\n",
    "c=[]\n",
    "a=[]\n",
    "d=[]\n",
    "y=[]\n",
    "x=[]\n",
    "h=[]\n",
    "for i in range(N):\n",
    "    x.append(-1+0.1*i)\n",
    "    y.append(f(x[i]))\n",
    "    b.append(i)\n",
    "    d.append(i)\n",
    "for j in range(N-1):\n",
    "    h.append(x[j+1]-x[j])\n",
    "    a.append(i)\n",
    "    c.append(i)\n",
    "#求求矩所需的三对角矩阵\n",
    "a[N-2]=0\n",
    "c[0]=0\n",
    "b[0]=b[N-1]=1\n",
    "d[0]=d[N-1]=0\n",
    "for i in range(N-2):\n",
    "    a[i]=h[i]/6\n",
    "    c[i+1]=h[i+1]/6\n",
    "for i in range(1,N-1):\n",
    "    b[i]=(h[i-1]+h[i])/3\n",
    "    d[i]=(y[i+1]-y[i])/h[i]-(y[i]-y[i-1])/h[i-1]\n",
    "#矩\n",
    "m=M1(a,b,c,d)\n",
    "#定义三次样条函数\n",
    "def s(g,j):\n",
    "    Aj=(y[j+1]-y[j])/h[j]-h[j]*(m[j+1]-m[j])/6\n",
    "    Bj=y[j]-m[j]*h[j]**2/6\n",
    "    Sj=m[j]*(x[j+1]-g)**3/(6*h[j])+m[j+1]*(g-x[j])**3/(6*h[j])+Aj*(g-x[j])+Bj\n",
    "    return(Sj)\n",
    "three=[]\n",
    "dthree=[]\n",
    "f1=[]\n",
    "l=[]\n",
    "for i in range(41):\n",
    "    l.append(-1+0.05*i)\n",
    "for i in range(41):\n",
    "    f1.append(f(l[i]))\n",
    "    z=int((i-1)/2)\n",
    "    three.append(s(l[i],z))\n",
    "for i in range(41):\n",
    "    dthree.append(abs(f1[i]-three[i]))\n",
    "col = PrettyTable()\n",
    "col.add_column(\"x\",l)\n",
    "col.add_column(\"f(x)\",f1)\n",
    "col.add_column(\"three(x)\",three)\n",
    "col.add_column(\"|f(x)-three(x)|\",dthree)\n",
    "print(col)"
   ]
  },
  {
   "cell_type": "markdown",
   "metadata": {},
   "source": [
    "三次样条函数法在不考虑机器误差情况下函数值与真实值相差无异，另外该方法绘出的曲线光滑、与原函数图线十分逼近、较lagrange插值法更为稳定。"
   ]
  },
  {
   "cell_type": "code",
   "execution_count": 29,
   "metadata": {},
   "outputs": [
    {
     "data": {
      "text/plain": [
       "[<matplotlib.lines.Line2D at 0x1c37fea9438>]"
      ]
     },
     "execution_count": 29,
     "metadata": {},
     "output_type": "execute_result"
    },
    {
     "data": {
      "image/png": "[encoded data removed]",
      "text/plain": [
       "<matplotlib.figure.Figure at 0x1c37ee6c6a0>"
      ]
     },
     "metadata": {},
     "output_type": "display_data"
    }
   ],
   "source": [
    "import numpy\n",
    "import math\n",
    "from prettytable import PrettyTable\n",
    "#求三次样条函数的矩(求解三对角矩阵)\n",
    "def M1(a,b,c,d):#a、c参数是三对角矩阵的非对角元，b为对角元，AX=d\n",
    "    n=len(b)\n",
    "    q=[]\n",
    "    p=[]\n",
    "    x=[]\n",
    "    for j in range(n-1):\n",
    "        q.append(j)\n",
    "    for k in range(n):\n",
    "        p.append(k)\n",
    "        x.append(k)\n",
    "    q[0]=c[0]/b[0]\n",
    "    p[0]=d[0]/b[0]\n",
    "    for i in range(1,n-1):\n",
    "        q[i]=c[i]/(b[i]-q[i-1]*a[i-1])\n",
    "    for j in range(1,n):\n",
    "        p[j]=(d[j]-p[j-1]*a[j-1])/(b[j]-q[j-1]*a[j-1])\n",
    "    x[n-1]=p[n-1]\n",
    "    for k in range(n-2,-1,-1):\n",
    "        x[k]=p[k]-q[k]*x[k+1]\n",
    "    return (x)#反回AX=d的解在一个列表中\n",
    "def f(x):\n",
    "    return(1/(1+25*x**2))\n",
    "#取自然边界条件即m0=mn=0\n",
    "N=21\n",
    "b=[]\n",
    "c=[]\n",
    "a=[]\n",
    "d=[]\n",
    "y=[]\n",
    "x=[]\n",
    "h=[]\n",
    "for i in range(N):\n",
    "    x.append(-1+0.1*i)\n",
    "    y.append(f(x[i]))\n",
    "    b.append(i)\n",
    "    d.append(i)\n",
    "for j in range(N-1):\n",
    "    h.append(x[j+1]-x[j])\n",
    "    a.append(i)\n",
    "    c.append(i)\n",
    "#求求矩所需的三对角矩阵\n",
    "a[N-2]=0\n",
    "c[0]=0\n",
    "b[0]=b[N-1]=1\n",
    "d[0]=d[N-1]=0\n",
    "for i in range(N-2):\n",
    "    a[i]=h[i]/6\n",
    "    c[i+1]=h[i+1]/6\n",
    "for i in range(1,N-1):\n",
    "    b[i]=(h[i-1]+h[i])/3\n",
    "    d[i]=(y[i+1]-y[i])/h[i]-(y[i]-y[i-1])/h[i-1]\n",
    "#矩\n",
    "m=M1(a,b,c,d)\n",
    "#定义三次样条函数\n",
    "def s(g,j):\n",
    "    Aj=(y[j+1]-y[j])/h[j]-h[j]*(m[j+1]-m[j])/6\n",
    "    Bj=y[j]-m[j]*h[j]**2/6\n",
    "    Sj=m[j]*(x[j+1]-g)**3/(6*h[j])+m[j+1]*(g-x[j])**3/(6*h[j])+Aj*(g-x[j])+Bj\n",
    "    return(Sj)\n",
    "#画三次样条函数图\n",
    "for i in range(N-1):\n",
    "    g=np.linspace(-1+0.1*i,-1+0.1*(i+1),200)\n",
    "    plt.plot(g,s(g,i),'r')#以红实线画出\n",
    "q=np.linspace(-1,1,200)\n",
    "plt.plot(q,f(q),'k--')#以黑虚线画出f"
   ]
  },
  {
   "cell_type": "markdown",
   "metadata": {},
   "source": [
    "$$2a$$"
   ]
  },
  {
   "cell_type": "code",
   "execution_count": 11,
   "metadata": {},
   "outputs": [
    {
     "name": "stdout",
     "output_type": "stream",
     "text": [
      "+---+-------------------------+------------------------+\n",
      "| t |           X(t)          |          Y(t)          |\n",
      "+---+-------------------------+------------------------+\n",
      "| 0 |           0.0           |          0.0           |\n",
      "| 1 |   0.20710678118654752   |  0.20710678118654752   |\n",
      "| 2 |  6.123233995736765e-17  |   0.9999999999999999   |\n",
      "| 3 |   -1.2071067811865475   |   1.2071067811865475   |\n",
      "| 4 |           -2.0          | 2.4492935982947064e-16 |\n",
      "| 5 |    -1.207106781186548   |  -1.2071067811865475   |\n",
      "| 6 | -1.8369701987210302e-16 |  -1.0000000000000002   |\n",
      "| 7 |    0.2071067811865476   |  -0.20710678118654768  |\n",
      "| 8 |           0.0           |          -0.0          |\n",
      "+---+-------------------------+------------------------+\n"
     ]
    }
   ],
   "source": [
    "import numpy\n",
    "import math\n",
    "from prettytable import PrettyTable\n",
    "def Xt(t):\n",
    "    r=(1-math.cos(math.pi*t/4))*math.cos(math.pi*t/4)\n",
    "    return(r)\n",
    "def Yt(t):\n",
    "    r=(1-math.cos(math.pi*t/4))*math.sin(math.pi*t/4)\n",
    "    return(r)\n",
    "x=[n for n in range(9)]\n",
    "xt=[Xt(n) for n in range(9)]\n",
    "yt=[Yt(n) for n in range(9)]\n",
    "col = PrettyTable()\n",
    "col.add_column(\"t\",x)\n",
    "col.add_column(\"X(t)\",xt)\n",
    "col.add_column(\"Y(t)\",yt)\n",
    "print(col)"
   ]
  },
  {
   "cell_type": "markdown",
   "metadata": {},
   "source": [
    "$$2b$$"
   ]
  },
  {
   "cell_type": "markdown",
   "metadata": {},
   "source": [
    "三次样条函数见2c"
   ]
  },
  {
   "cell_type": "markdown",
   "metadata": {},
   "source": [
    "$$2c$$"
   ]
  },
  {
   "cell_type": "code",
   "execution_count": 12,
   "metadata": {},
   "outputs": [
    {
     "data": {
      "image/png": "[encoded data removed]",
      "text/plain": [
       "<matplotlib.figure.Figure at 0x1c378ce5358>"
      ]
     },
     "metadata": {},
     "output_type": "display_data"
    }
   ],
   "source": [
    "import numpy as np\n",
    "import matplotlib.pyplot as plt\n",
    "import math\n",
    "def Xt(t):\n",
    "    r=(1-math.cos(math.pi*t/4))*math.cos(math.pi*t/4)\n",
    "    return(r)\n",
    "def Yt(t):\n",
    "    r=(1-math.cos(math.pi*t/4))*math.sin(math.pi*t/4)\n",
    "    return(r)\n",
    "#求三次样条函数的矩(求解三对角矩阵)\n",
    "def M1(a,b,c,d):#a、c参数是三对角矩阵的非对角元，b为对角元，AX=d\n",
    "    n=len(b)\n",
    "    q=[]\n",
    "    p=[]\n",
    "    x=[]\n",
    "    for j in range(n-1):\n",
    "        q.append(j)\n",
    "    for k in range(n):\n",
    "        p.append(k)\n",
    "        x.append(k)\n",
    "    q[0]=c[0]/b[0]\n",
    "    p[0]=d[0]/b[0]\n",
    "    for i in range(1,n-1):\n",
    "        q[i]=c[i]/(b[i]-q[i-1]*a[i-1])\n",
    "    for j in range(1,n):\n",
    "        p[j]=(d[j]-p[j-1]*a[j-1])/(b[j]-q[j-1]*a[j-1])\n",
    "    x[n-1]=p[n-1]\n",
    "    for k in range(n-2,-1,-1):\n",
    "        x[k]=p[k]-q[k]*x[k+1]\n",
    "    return (x)\n",
    "#给出函数f(t)，点的个数N，起始点p，步长q反回三次样条函数\n",
    "def yt3(f,N,p,q,k,J):\n",
    "    #取自然边界条件即m0=mn=0\n",
    "    b=[]\n",
    "    c=[]\n",
    "    a=[]\n",
    "    d=[]\n",
    "    y=[]\n",
    "    x=[]\n",
    "    h=[]\n",
    "    for i in range(N):\n",
    "        x.append(p+q*i)\n",
    "        y.append(f(x[i]))\n",
    "    for j in range(N-1):\n",
    "        h.append(x[j+1]-x[j])\n",
    "    for i in range(N):\n",
    "        b.append(i)\n",
    "        d.append(i)\n",
    "    for i in range(N-1):\n",
    "        a.append(i)\n",
    "        c.append(i)\n",
    "    a[N-2]=0\n",
    "    c[0]=0\n",
    "    b[0]=b[N-1]=1\n",
    "    d[0]=d[N-1]=0\n",
    "    for i in range(N-2):\n",
    "        a[i]=h[i]/6\n",
    "        c[i+1]=h[i+1]/6\n",
    "    for i in range(1,N-1):\n",
    "        b[i]=(h[i-1]+h[i])/3\n",
    "        d[i]=(y[i+1]-y[i])/h[i]-(y[i]-y[i-1])/h[i-1]\n",
    "    #矩\n",
    "    m=M1(a,b,c,d)\n",
    "    #定义三次样条函数\n",
    "    def s(g,j):\n",
    "        Aj=(y[j+1]-y[j])/h[j]-h[j]*(m[j+1]-m[j])/6\n",
    "        Bj=y[j]-m[j]*h[j]**2/6\n",
    "        Sj=m[j]*(x[j+1]-g)**3/(6*h[j])+m[j+1]*(g-x[j])**3/(6*h[j])+Aj*(g-x[j])+Bj\n",
    "        return(Sj)\n",
    "    return(s(k,J))\n",
    "#画出两个三次样条函数\n",
    "for i in range(8):\n",
    "    k=np.linspace(0+1*i,0+1*(i+1),200)\n",
    "    plt.plot(yt3(Xt,9,0,1,k,i),yt3(Yt,9,0,1,k,i),'k')\n",
    "    plt.plot(k,yt3(Xt,9,0,1,k,i),'r')\n",
    "    plt.plot(k,yt3(Yt,9,0,1,k,i),'b')"
   ]
  },
  {
   "cell_type": "markdown",
   "metadata": {},
   "source": [
    "$$2d$$"
   ]
  },
  {
   "cell_type": "markdown",
   "metadata": {},
   "source": [
    "由算法可知三次样条函数在每一个节点x处都有f(x+0)=f(x-0);f'(x+0)=f'(x-0)这就保证了曲线的光滑连接。"
   ]
  },
  {
   "cell_type": "markdown",
   "metadata": {},
   "source": [
    "$$3a$$"
   ]
  },
  {
   "cell_type": "markdown",
   "metadata": {},
   "source": []
  }
 ],
 "metadata": {
  "kernelspec": {
   "display_name": "Python 3",
   "language": "python",
   "name": "python3"
  },
  "language_info": {
   "codemirror_mode": {
    "name": "ipython",
    "version": 3
   },
   "file_extension": ".py",
   "mimetype": "text/x-python",
   "name": "python",
   "nbconvert_exporter": "python",
   "pygments_lexer": "ipython3",
   "version": "3.6.4"
  }
 },
 "nbformat": 4,
 "nbformat_minor": 2
}
