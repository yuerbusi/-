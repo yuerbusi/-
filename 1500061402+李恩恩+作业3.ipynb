{
 "cells": [
  {
   "cell_type": "markdown",
   "metadata": {},
   "source": [
    "$$\\LARGE\\color{purple}{第三次作业}$$\n"
   ]
  },
  {
   "cell_type": "markdown",
   "metadata": {},
   "source": [
    "$1、 Householder 与 Givens 在矩阵分解中的比较$ "
   ]
  },
  {
   "cell_type": "markdown",
   "metadata": {},
   "source": [
    "$$a$$"
   ]
  },
  {
   "cell_type": "markdown",
   "metadata": {},
   "source": [
    "Householder变换：$O(\\frac{4}{3}n^3\\approx n^3)$\n",
    "\n",
    "Givens旋转：$O(\\approx n^2)$"
   ]
  },
  {
   "cell_type": "markdown",
   "metadata": {},
   "source": [
    "$$b$$"
   ]
  },
  {
   "cell_type": "code",
   "execution_count": 49,
   "metadata": {},
   "outputs": [
    {
     "name": "stdout",
     "output_type": "stream",
     "text": [
      "输入的矩阵A:\n",
      "[[1 3 2]\n",
      " [3 1 4]\n",
      " [1 3 5]]\n",
      "对A进行QR分解：\n",
      "[[ 3.01511345e-01  6.39602149e-01  7.07106781e-01]\n",
      " [ 9.04534034e-01 -4.26401433e-01  6.15902987e-17]\n",
      " [ 3.01511345e-01  6.39602149e-01 -7.07106781e-01]]\n",
      "[[ 3.31662479e+00  2.71360210e+00  5.72871555e+00]\n",
      " [ 1.11542807e-16  3.41121146e+00  2.77160931e+00]\n",
      " [ 2.54156251e-16  3.95456030e-16 -2.12132034e+00]]\n",
      "验证A=QR\n",
      "[[1. 3. 2.]\n",
      " [3. 1. 4.]\n",
      " [1. 3. 5.]]\n",
      "验证Q矩阵的正交性:Q^TQ=I\n",
      "[[1.00000000e+00 1.23563367e-16 2.06050670e-16]\n",
      " [1.23563367e-16 1.00000000e+00 1.26882787e-16]\n",
      " [2.06050670e-16 1.26882787e-16 1.00000000e+00]]\n"
     ]
    }
   ],
   "source": [
    "import numpy as np\n",
    "import math\n",
    "import pandas\n",
    "#Householder 变换\n",
    "def Householder(A):\n",
    "    n=len(A)\n",
    "    R=np.copy(A)\n",
    "    Q=np.identity(n)\n",
    "    for i in range(n-1):\n",
    "        u=R[i:,i]\n",
    "        a=np.linalg.norm(u)\n",
    "        e=[0 for j in range(n-i)]\n",
    "        e[0]=1\n",
    "        v=np.matrix(u)-a*np.matrix(e)\n",
    "        Q_=np.identity(n)\n",
    "        Q_[i:,i:]=Q_[i:,i:]-2*np.dot(v.T,v)/np.linalg.norm(v)**2\n",
    "        R=np.dot(Q_,R)\n",
    "        Q=np.dot(Q,Q_)\n",
    "    return(Q,R)\n",
    "q0=Householder(np.matrix(\"1 3 2;3 1 4;1 3 5\"))[0]\n",
    "q1=Householder(np.matrix(\"1 3 2;3 1 4;1 3 5\"))[1]\n",
    "print(\"输入的矩阵A:\")\n",
    "print(np.matrix(\"1 3 2;3 1 4;1 3 5\"))\n",
    "print(\"对A进行QR分解：\")\n",
    "print(q0)#Q\n",
    "print(q1)#R\n",
    "print(\"验证A=QR\")\n",
    "print(np.dot(q0,q1))\n",
    "print(\"验证Q矩阵的正交性:Q^TQ=I\")\n",
    "print(np.dot(q0.T,q0))"
   ]
  },
  {
   "cell_type": "markdown",
   "metadata": {},
   "source": [
    "$$c$$"
   ]
  },
  {
   "cell_type": "code",
   "execution_count": 52,
   "metadata": {},
   "outputs": [
    {
     "name": "stdout",
     "output_type": "stream",
     "text": [
      "输入的矩阵A:\n",
      "[[1 3 2]\n",
      " [3 1 4]\n",
      " [1 3 5]]\n",
      "对A进行QR分解：\n",
      "[[ 3.01511345e-01  6.39602149e-01  7.07106781e-01]\n",
      " [ 9.04534034e-01 -4.26401433e-01 -5.33365554e-17]\n",
      " [ 3.01511345e-01  6.39602149e-01 -7.07106781e-01]]\n",
      "[[ 3.31662479e+00  2.71360210e+00  5.72871555e+00]\n",
      " [-7.44760246e-17  3.41121146e+00  2.77160931e+00]\n",
      " [ 8.23363432e-17 -1.73967670e-17 -2.12132034e+00]]\n",
      "验证A=QR\n",
      "[[1. 3. 2.]\n",
      " [3. 1. 4.]\n",
      " [1. 3. 5.]]\n",
      "验证Q矩阵的正交性:Q^TQ=I\n",
      "[[ 1.00000000e+00  3.94778328e-17 -7.24618903e-17]\n",
      " [ 3.94778328e-17  1.00000000e+00 -1.01136563e-16]\n",
      " [-7.24618903e-17 -1.01136563e-16  1.00000000e+00]]\n"
     ]
    }
   ],
   "source": [
    "import numpy as np\n",
    "import math\n",
    "import pandas\n",
    "#Givens旋转\n",
    "def Givens(A):\n",
    "    n=len(A)\n",
    "    R=np.copy(A)\n",
    "    Q=np.identity(n)\n",
    "    for i in range(1,n):\n",
    "        for j in range(i):\n",
    "            if(R[i][j]!=0):\n",
    "                r=math.sqrt(R[i][j]**2+R[j][j]**2)\n",
    "                c=R[j][j]/r\n",
    "                s=-R[i][j]/r\n",
    "                G=np.identity(n)\n",
    "                G[i][j]=s\n",
    "                G[j][i]=-s\n",
    "                G[i][i]=G[j][j]=c\n",
    "                R=np.dot(G,R)\n",
    "                Q=np.dot(Q,G.T)\n",
    "    return(Q,R)\n",
    "q2=Givens(np.matrix(\"1 3 2;3 1 4;1 3 5\"))[0]\n",
    "q3=Givens(np.matrix(\"1 3 2;3 1 4;1 3 5\"))[1]\n",
    "print(\"输入的矩阵A:\")\n",
    "print(np.matrix(\"1 3 2;3 1 4;1 3 5\"))\n",
    "print(\"对A进行QR分解：\")\n",
    "print(q2)#Q\n",
    "print(q3)#R\n",
    "print(\"验证A=QR\")\n",
    "print(np.dot(q2,q3))\n",
    "print(\"验证Q矩阵的正交性:Q^TQ=I\")\n",
    "print(np.dot(q2.T,q2))"
   ]
  },
  {
   "cell_type": "markdown",
   "metadata": {},
   "source": [
    "$$d$$"
   ]
  },
  {
   "cell_type": "code",
   "execution_count": 18,
   "metadata": {},
   "outputs": [
    {
     "name": "stdout",
     "output_type": "stream",
     "text": [
      "+---------------------------+------------------------+\n",
      "| Householder镜面变换时间： |  Givens旋转变换时间：  |\n",
      "+---------------------------+------------------------+\n",
      "|   0.0008005699785371689   | 0.00034725578120742284 |\n",
      "|   0.0006513184173400077   | 0.0003006413969615096  |\n",
      "|   0.00039942967941897223  | 0.0002506057733171474  |\n",
      "|   0.0003754810047666979   | 0.00019073408680014836 |\n",
      "|   0.0003874553422065219   | 0.00018945112196888658 |\n",
      "|   0.0003720597655956226   | 0.00018987877706422296 |\n",
      "|   0.0003682108715565846   | 0.00018816815736499848 |\n",
      "|   0.00037548100499407155  | 0.0002155380711883481  |\n",
      "|   0.0003746256950307725   | 0.00019073408680014836 |\n",
      "|   0.00038104051850496035  | 0.00019116174166811106 |\n",
      "|   0.0013270131639728788   | 0.00018816815736499848 |\n",
      "|   0.0005418387622739829   | 0.00018945112196888658 |\n",
      "|   0.0004178188403329841   |  0.000293371263296649  |\n",
      "|   0.00041739118523764773  | 0.00020484669857978588 |\n",
      "|   0.0005080540247490717   | 0.00018945112196888658 |\n",
      "|   0.0003844617579034093   | 0.00019629360031103715 |\n",
      "|   0.00037719162446592236  | 0.00020826793775086117 |\n",
      "|   0.0003934425105853734   | 0.00018945112219626026 |\n",
      "|   0.00037334273042688437  | 0.00018902346710092388 |\n",
      "|   0.00044732702849614725  | 0.00018816815736499848 |\n",
      "+---------------------------+------------------------+\n"
     ]
    }
   ],
   "source": [
    "#输出数据时用到了文件包“prettytable.py”\n",
    "import numpy as np\n",
    "import math\n",
    "import pandas\n",
    "import time\n",
    "from prettytable import PrettyTable\n",
    "def Householder(A):\n",
    "    n=len(A)\n",
    "    R=np.copy(A)\n",
    "    Q=np.identity(n)\n",
    "    for i in range(n-1):\n",
    "        u=R[i:,i]\n",
    "        a=np.linalg.norm(u)\n",
    "        e=[0 for j in range(n-i)]\n",
    "        e[0]=1\n",
    "        v=np.matrix(u)-a*np.matrix(e)\n",
    "        Q_=np.identity(n)\n",
    "        Q_[i:,i:]=Q_[i:,i:]-2*np.dot(v.T,v)/np.linalg.norm(v)**2\n",
    "        R=np.dot(Q_,R)\n",
    "        Q=np.dot(Q,Q_)\n",
    "    return(Q,R)\n",
    "def Givens(A):\n",
    "    n=len(A)\n",
    "    R=np.copy(A)\n",
    "    Q=np.identity(n)\n",
    "    for i in range(1,n):\n",
    "        for j in range(i):\n",
    "            if(R[i][j]!=0):\n",
    "                r=math.sqrt(R[i][j]**2+R[j][j]**2)\n",
    "                c=R[j][j]/r\n",
    "                s=-R[i][j]/r\n",
    "                G=np.identity(n)\n",
    "                G[i][j]=s\n",
    "                G[j][i]=-s\n",
    "                G[i][i]=G[j][j]=c\n",
    "                R=np.dot(G,R)\n",
    "                Q=np.dot(Q,G.T)\n",
    "    return(Q,R)\n",
    "t1=[]\n",
    "for i in range(20):\n",
    "    start1=time.clock()\n",
    "    B=np.random.uniform(-1,1,36).reshape(6,6)\n",
    "    Householder(B)\n",
    "    end1=time.clock()\n",
    "    t1.append(end1-start1)\n",
    "t=[]\n",
    "for i in range(20):\n",
    "    start=time.clock()\n",
    "    B=np.random.uniform(-1,1,36).reshape(6,6)\n",
    "    Givens(B)\n",
    "    end=time.clock()\n",
    "    t.append(end-start)\n",
    "col = PrettyTable()\n",
    "col.add_column(\"Householder镜面变换时间：\",t1)\n",
    "col.add_column(\"Givens旋转变换时间：\",t)\n",
    "print(col)"
   ]
  },
  {
   "cell_type": "markdown",
   "metadata": {},
   "source": [
    "$由上述时间检测知：Givens旋转变换速度快于Householder变换。$"
   ]
  },
  {
   "cell_type": "markdown",
   "metadata": {},
   "source": [
    "$2、幂次法求矩阵的最大模的本征值与本征矢$"
   ]
  },
  {
   "cell_type": "markdown",
   "metadata": {},
   "source": [
    "$$a$$"
   ]
  },
  {
   "cell_type": "markdown",
   "metadata": {},
   "source": [
    "将$x(t)=xe^{-iwt}$代入$\\frac{d^2x(t)}{d^2t}=-A\\cdot x(t)$得\\begin{eqnarray}-w^2e^{-iwt}x&=&-e^{-iwt}A\\cdot x\\\\ A\\cdot x&=&\\lambda x\\\\&=&w^2x\\end{eqnarray}"
   ]
  },
  {
   "cell_type": "markdown",
   "metadata": {},
   "source": [
    "$$b$$"
   ]
  },
  {
   "cell_type": "code",
   "execution_count": 56,
   "metadata": {},
   "outputs": [
    {
     "name": "stdout",
     "output_type": "stream",
     "text": [
      "本征值：-4.000000\n",
      "本征矢量：\n",
      "[[ 0.31622777]\n",
      " [-0.31622777]\n",
      " [ 0.31622777]\n",
      " [-0.31622777]\n",
      " [ 0.31622777]\n",
      " [-0.31622777]\n",
      " [ 0.31622777]\n",
      " [-0.31622777]\n",
      " [ 0.31622777]\n",
      " [-0.31622777]]\n"
     ]
    }
   ],
   "source": [
    "import numpy as np\n",
    "import math\n",
    "import pandas\n",
    "import time\n",
    "from prettytable import PrettyTable\n",
    "#生成矩阵A\n",
    "def delta (i,j):\n",
    "    if(i==j):\n",
    "        return(1)\n",
    "    else:\n",
    "        return(0)\n",
    "def F1(N1):\n",
    "    C=[]\n",
    "    for i in range(N1):\n",
    "        for j in range(N1):\n",
    "                C.append(delta(i-1,j)+delta(i+1,j)-2*delta(i,j))\n",
    "    B=np.matrix(C).reshape(N1,N1)\n",
    "    B[0,N1-1]=B[N1-1,0]=1\n",
    "    return(B)\n",
    "#随机产生单位矢量Q_0\n",
    "def Q_0(N2):\n",
    "    Q=np.random.uniform(0,10,N2)\n",
    "    return(np.matrix(Q)/np.linalg.norm(Q))\n",
    "#幂次法\n",
    "def F2(N3):\n",
    "    A=F1(N3)\n",
    "    q=Q_0(N3)\n",
    "    z_i=np.dot(A,q.T)\n",
    "    q_i=z_i/np.linalg.norm(z_i)\n",
    "    v_i=np.dot(np.dot(q_i.T,A),q_i)\n",
    "    for i in range(10000):\n",
    "        z_i=np.dot(A,q_i)\n",
    "        q_i=z_i/np.linalg.norm(z_i)\n",
    "        v_i=np.dot(np.dot(q_i.T,A),q_i)\n",
    "    return(v_i[0,0],q_i)\n",
    "print(\"本征值：%.6f\"%F2(10)[0])\n",
    "print(\"本征矢量：\")\n",
    "print(F2(10)[1])"
   ]
  },
  {
   "cell_type": "markdown",
   "metadata": {},
   "source": [
    "证明：\\begin{eqnarray}q_0&=&\\sum_{i=1}^{n}\\alpha_iv_i\\\\q_1&=&A\\sum_{i=1}^n \\alpha_iv_i=\\sum_{i=1}^n\\alpha_i\\lambda_iv_i\\\\……\\\\q_k&=&\\lambda_1^k(\\alpha_1v_1+\\alpha_2(\\frac{\\lambda_2}{\\lambda_1})^kv_2+\\alpha_3(\\frac{\\lambda_3}{\\lambda_1})^kv_3+……)\\\\\\lim_{k\\to\\infty}q_k&=&\\lambda_1^k\\alpha_1v_1\\end{eqnarray}\n",
    "由$$q_k=\\lambda_1^k(\\alpha_1v_1+\\alpha_2(\\frac{\\lambda_2}{\\lambda_1})^kv_2+\\alpha_3(\\frac{\\lambda_3}{\\lambda_1})^kv_3+……)$$知$$((\\alpha_1\\lambda_1^k)^2+(\\alpha_2(\\frac{\\lambda_2}{\\lambda_1})^k)^2+……)^{1/2}=1$$当$k\\to\\infty$时$$\\alpha_1\\lambda_1^k=1$$即$$\\lim_{k\\to\\infty}q_k=v_1$$而本征值：$$\\lim_{k\\to\\infty}v_k=\\lim_{k\\to\\infty}q_k^TAq_k=v_1^TAv_1=\\lambda_1\\\\得证$$\n",
    "\n"
   ]
  }
 ],
 "metadata": {
  "kernelspec": {
   "display_name": "Python 3",
   "language": "python",
   "name": "python3"
  },
  "language_info": {
   "codemirror_mode": {
    "name": "ipython",
    "version": 3
   },
   "file_extension": ".py",
   "mimetype": "text/x-python",
   "name": "python",
   "nbconvert_exporter": "python",
   "pygments_lexer": "ipython3",
   "version": "3.6.4"
  }
 },
 "nbformat": 4,
 "nbformat_minor": 2
}
