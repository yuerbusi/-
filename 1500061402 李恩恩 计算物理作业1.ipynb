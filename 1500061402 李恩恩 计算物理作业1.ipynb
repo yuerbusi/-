{
 "cells": [
  {
   "cell_type": "markdown",
   "metadata": {},
   "source": [
    "# 计算物理第一次作业"
   ]
  },
  {
   "cell_type": "markdown",
   "metadata": {},
   "source": [
    "李恩恩 学号:1500061402"
   ]
  },
  {
   "cell_type": "markdown",
   "metadata": {},
   "source": [
    "$1.数值误差的避免$\n"
   ]
  },
  {
   "cell_type": "markdown",
   "metadata": {},
   "source": [
    "$$(a)$$\n",
    "考虑一个N个数据的样本$x_1,\\cdots,x_N$,它的样本平均值为\n",
    "\n",
    "$\\overline x=\\frac{1}{N}\\sum_{i=1}^{n}{x_i}$,\n",
    "\n",
    "\n",
    "假定我们需要计算的求和项较多,而每一个$x_i$的求和有可能造成舍入误差.给出计算$\\overline{x}$的舍入误差的最大可能上限的估计,用样本数目$N$以及机器精度$\\frac{\\varepsilon_M}{2}$来表述.\n",
    "\n"
   ]
  },
  {
   "cell_type": "markdown",
   "metadata": {},
   "source": [
    "用浮点数表示样本的平均值为:\n",
    " $fl(\\overline{x})=\\frac{1}{N}\\cdot((...((x_1+x_2)(1+\\varepsilon_1)+x_3)(1+\\varepsilon_2)+\\cdots+x_N)(1+\\varepsilon_{N-1}))(1+\\varepsilon_N)$\n",
    " \n",
    " \n",
    " 舍去≥2阶的小项,得:\n",
    " \n",
    " \n",
    "$$fl(\\bar x)\\approx\\bar x(1+\\frac{x_1+x_2}{\\sum_{i=1}^{n}{x_i}}\\varepsilon_1+\\frac{x_1+x_2+x_3}{\\sum_{i=1}^{n}{x_i}}\\varepsilon_2+\\cdots+\\varepsilon_{N-1}+\\varepsilon_N)$$\n",
    "\n",
    "\n",
    "由于$|\\varepsilon_i|≤\\frac{\\varepsilon}{2}对\\forall 1≤i≤N$均成立,所以:\n",
    "$\\varepsilon_{总}=|\\overline{x}-fl(\\overline x)|\\\\\n",
    "< |\\overline x|\\cdot|\\varepsilon_1+\\varepsilon_2+\\cdots +\\varepsilon_N|\\\\\n",
    "≤|\\overline x|\\cdot N\\cdot \\frac{\\varepsilon_M}{2}$\n",
    "\n",
    "故舍入误差的最大可能上限为:$$|\\overline x|\\cdot N\\cdot \\frac{\\varepsilon_M}{2}$$\n"
   ]
  },
  {
   "cell_type": "markdown",
   "metadata": {},
   "source": [
    "$$(b)$$\n",
    "考虑样本的方差的计算。方差具有两个标准的计算公式:$S^2=\\frac{1}{N-1}(\\sum_{i=1}^{N}{x_i^2}-N\\overline{x}^2),S^2=\\frac{1}{N-1}\\sum_{i=1}^{N}（x_i-\\overline{x})^2$\n",
    "\n",
    "这两个公式在数值计算方面哪一个更为稳定和准确？"
   ]
  },
  {
   "cell_type": "markdown",
   "metadata": {},
   "source": [
    "显然第二个更稳定，因为第一个并不能充分利用每个数据，$\\sum_{i=1}^{N}{x_i^2}$损失了数据信息(比如将数据的正负丢失），第二个公式充分利用了每个数据，更可靠与稳定.\n"
   ]
  },
  {
   "cell_type": "markdown",
   "metadata": {},
   "source": [
    "$$(c)$$考虑计算积分$I_n=\\int_{0}^{1}{dx(\\frac{x^n}{x+5})}$.\n",
    "证明积分$I_n$满足下列递推公式:\n",
    "$I_0=ln(6/5),I_k+5I_{k-1}=1/k,k=1,2,\\cdots$\n",
    "\n",
    "如果我们计算$I_0$时有一个微小的误差$\\varepsilon$,利用上面的递推公式计算n$\\gg$时的$I_n$是稳定的吗？\n"
   ]
  },
  {
   "cell_type": "markdown",
   "metadata": {},
   "source": [
    "$$I_0=\\int_{0}^{1}{dx(\\frac{1}{x+5})}=\\ln(x+5)\\big|_0^1=\\ln6-\\ln5=\\ln(\\frac6 5)$$\n",
    "有题知:$I_k=x\\cdot I_{k-1},则I_k+5I_{k-1}=(x+5)I_{k-1}=\\int_0^1{dxx^{k-1}}=\\frac{x^k}{k}\\big|_0^1=\\frac 1 k$\n",
    "\n",
    "利用递推公式通过$I_k$求$I_k$的条件数，即从$I_0$求$I_k$的条件数为：$(-5)^k\\cdot\\frac{\\varepsilon}{I_k}$,条件数随着的增加指数增加，因此利用递推关系求得的$I_n$不稳定."
   ]
  },
  {
   "cell_type": "markdown",
   "metadata": {},
   "source": [
    "$2.矩阵的模与条件数$\n",
    "\n",
    "考虑一个具体的上三角形矩阵$A\\in{R^{n\\times{n}}}$,其所有对角元都为$1$而所有的上三角部分矩阵元都是$-1$."
   ]
  },
  {
   "cell_type": "markdown",
   "metadata": {},
   "source": [
    "$$（a)$$\n",
    "计算矩阵A的行列式,说明A的确不是奇异矩阵。"
   ]
  },
  {
   "cell_type": "markdown",
   "metadata": {},
   "source": [
    "上三角矩阵的行列式为对角元乘积,本题A的行列式显然不为零所以它不是奇异矩阵."
   ]
  },
  {
   "cell_type": "markdown",
   "metadata": {},
   "source": [
    "$$(b)$$\n",
    "给出矩阵的逆矩阵$A^{-1}$的形式。\n"
   ]
  },
  {
   "cell_type": "markdown",
   "metadata": {},
   "source": [
    "$|A^{-1}|\n",
    "$矩阵元如下:\n",
    "\n",
    "\n",
    "$$\n",
    "|A^{-1}|_{ij}=\\begin{cases}\n",
    "0,&i<j\\\\ 1,&i=j\\cr 2^{j-i-1},&i>j\n",
    "\\end{cases}\n",
    "$$"
   ]
  },
  {
   "cell_type": "markdown",
   "metadata": {},
   "source": [
    "$$(c)$$\n",
    "如果我们采用矩阵P模的定义，\n",
    "\n",
    "$\\parallel{A}\\parallel_p=\\sup\\limits_{x\\ne{0}}\\frac{\\parallel{Ax}\\parallel_p}{\\parallel{x}\\parallel_p}$\n",
    "\n",
    "\n",
    "其中等式右边的模函数$\\parallel{\\cdot}\\parallel_p$是标准定义的矢量P模，说明如果$P\\to \\infty$.得到所谓的$\\infty$模为，\n",
    "\n",
    "$\\parallel{A}\\parallel_{\\infty}=\\max\\limits_{i=1,\\cdots ,n}\\sum_{j=0}^{n}{|a_{ij}|}.$\n"
   ]
  },
  {
   "cell_type": "markdown",
   "metadata": {},
   "source": [
    "令向量b=A$\\cdot$x,则其第i分量$b_i=\\sum_{j=1}^{n}{a_{ij}x_j}$\n",
    "\n",
    "又：$$\\parallel{x}\\parallel_p=(\\sum_{k=1}^{n}{|x_k|^p})^{1/p}$$\n",
    "\n",
    "向量b的无穷模$||b||_\\infty=||Ax||_\\infty=\\max\\limits_{i=1,2,...n}|\\sum_{j=1}^{n}{a_{ij}x_j}|$\n",
    "\n",
    "令$x_{max}=\\max\\limits_{1,2,...n}|x_k|>0$,可得:\n",
    "$$\\frac{||Ax||_\\infty}{||x||_\\infty}=\\frac{\\max\\limits_{i=1,\\cdots ,n}|\\sum_{j=1}^{n}{a_{ij}x_j}|}{x_{max}}≤\\max\\limits_{i=1,2,...n}\\sum_{j=1}^{n}{|a_{ij}|}\\frac{|x_j|}{x_{max}}≤\\max\\limits_{1,2...n}\\sum_{j=1}^{n}{|a_{ij}|}.$$\n",
    "\n",
    "显然当取合适的向量x时,上式中的两个等号可以同时取到.A的无穷模为:\n",
    "$$||A||_\\infty=\\sup\\limits_{x\\neq 0}\\frac{||Ax||_\\infty}{||x||_\\infty}=\\max\\limits_{1,2,...n}\\sum_{j=1}^{n}{|a_{ij}|}.$$\n"
   ]
  },
  {
   "cell_type": "markdown",
   "metadata": {},
   "source": [
    "$$(d)$$\n",
    "矩阵的模有多种定义方法。一种常用的方法是P=2的欧式模$\\parallel{\\cdot}\\parallel_2$.如果我们有一个幺正矩阵$U\\in C^n\\times n,\\parallel{UA}\\parallel_2=\\parallel{A}\\parallel_2$,试证明$||U||_2=||U^*||_2=1.试证明对任意的A\\in C^{n\\times n},||UA||_2=||A||_2.$因此，如果利用欧式模来定义条件数，$K_2(A)=K_2(UA)$.\n",
    "\n",
    "这里的$^*$表示厄米变换\n",
    "."
   ]
  },
  {
   "cell_type": "markdown",
   "metadata": {},
   "source": [
    "$$||UA||=\\sqrt{(UA,UA)}=\\sqrt{(UA)^* (UA)}=\\sqrt{A^* U^* UA}=\\sqrt{(x,x)}=||x||_2\\\\\n",
    "||U^*A||=\\sqrt{(U^* A,U^* A)}=\\sqrt{(U^* A)^* (U^* A)}=\\sqrt{A^* U U^* A}=\\sqrt{(x,x)}=||x||_2$$\n",
    "\n",
    "根据矩阵P模的定义(p=2):\n",
    "$$||U||=\\sup\\limits_{x\\neq 0}\\frac{||Ux||}{||x||}=\\sup\\limits_{x\\neq 0}\\frac{||x||_2}{||x||_2}=1\\\\\n",
    "||U^*||_2=\\sup\\limits_{x\\neq 0}\\frac{||U^*x||_2}{||x||_2}=\\sup\\limits_{x\\neq 0}\\frac{||x||_2}{||x||_2}=1$$\n",
    "\n",
    "\n",
    "由于矩阵P模服从乘法模,则有：$$||UA||_2≤||U||_2\\cdot||A||_2=||A||_2\\\\\n",
    "||A||_2=||U^*UA||_2≤||U^*||_2\\cdot||UA||_2=||UA||_2\\\\由此,||UA||_2=||A||_2.$$"
   ]
  },
  {
   "cell_type": "markdown",
   "metadata": {},
   "source": [
    "$$(e)$$\n",
    "利用这个定义计算上面给出的具体的矩阵的条件数$K_\\infty(A)=\\parallel{A}\\parallel_{\\infty}\\parallel{A^{-1}}\\parallel_{\\infty}$."
   ]
  },
  {
   "cell_type": "markdown",
   "metadata": {},
   "source": [
    "$$由(c)知||A||_\\infty=\\max\\limits_{i=1,2,\\cdots,n}\\sum_{j=1}^{n}{|a_{ij}|},\\\\\n",
    "因此:||A||_\\infty=n\\\\\n",
    "||A^{-1}||=2^{n-1}\\\\\n",
    "矩阵条件数为:n\\cdot 2^{n-1}$$\n",
    "\n",
    "\n",
    "\n",
    "\n"
   ]
  },
  {
   "cell_type": "markdown",
   "metadata": {},
   "source": [
    "$3.Hilber 矩阵$"
   ]
  },
  {
   "cell_type": "markdown",
   "metadata": {},
   "source": [
    "$$(a)$$\n",
    "考虑区间$[0,1]$上的任意函数$f(x)$,我们试图用一个(n-1)次的多项式$P_n(x)=\\sum_{i=1}^{n}{c_i x^{i-1}}$（从而有n个待定系数$c_i$）来近似f.构建两者之间的差的平方的积分，\n",
    "\n",
    "$D=\\int_{0}^{1}{dx(\\sum_{i=1}^{n}{c_i x^{i-1}-f(x)})^2}$,\n",
    "\n",
    "如果我们要求D取极小值，说明各个系数$c_i$所满足的方程为\n",
    "\n",
    "$\\sum_{j=1}^{n}{(H_n)_{ij}c_j}$,\n",
    "\n",
    "其中i,j=1,$\\cdots$,n.或者简写为矩阵形式:$H_n\\cdot c$=b,其中c,b$\\in$R^n,而$H_n$ $\\in$R^{n$\\times$n}就称为n阶Hilbert矩阵.给出矩阵$H_n$的矩阵元的表达式和矢量b的表达式(用含f(x)的积分表达)."
   ]
  },
  {
   "cell_type": "markdown",
   "metadata": {},
   "source": [
    "有题知:\n",
    "$$\\frac{\\partial D}{\\partial c_i}=\\int_0^1 2(\\sum_{j=1}^{n}{c_{j}}-f(x))(x^{i-1})dx=0\\\\ \\sum_{j=1}^{n}{c_j\\int_0^1x^{i+j-2}dx}=\\int_0^1 x^{i-1}dx\\\\ \\sum_{j=1}^{n}{c_j\\frac{1}{i+j-1}}=\\int_0^1x^{i-1}f(x)dx$$\n",
    "\n",
    "与$\\sum_{j=1}^{n}{(H_n)_{ij}c_j}=b_i$对比得:\n",
    "\n",
    "$$|H_n|_{ij}=\\frac 1{i+j-1}\\\\b_i=\\int_0^1{x^{i-1}f(x)dx}$$"
   ]
  },
  {
   "cell_type": "markdown",
   "metadata": {},
   "source": [
    "$$(b)$$\n",
    "请证明矩阵$H_n$是对称正定的矩阵，即对任意的$c\\in R^n$,说明$c^T\\cdot H_n c≥0$,其中等号只有当c=0时取得,进而用线性代数的知识论证Hilbert矩阵$H_n$是非奇异的.\n"
   ]
  },
  {
   "cell_type": "markdown",
   "metadata": {},
   "source": [
    "显然$H_n$是对称矩阵,下面说明它是正定的.\n",
    "\n",
    "设$c=(c_1,c_2,\\cdots,c_n)、Q_n(x)$为一多项式,定义为:$Q_n=\\sum_{i=1}^{n}{x^{i-1}},x=(1,x^2,\\cdots,x^{n-1})^*$\n",
    "\n",
    "则:$|Q_n(x)|^2=c\\cdot B\\cdot c^*$其中B为矩阵,满足$|B|_{ij}=x^{i+j-2}$,\n",
    "\n",
    "积分得:$|Q_n(x)|^2=c\\cdot H_n\\cdot c^*≥0$\n",
    "\n",
    "故$c\\cdot H_n\\cdot c^*≥0$恒成立并且只有c=0时取等号.\n",
    "\n",
    "非奇异性:正定矩阵的顺序主子式为正,则行列式为正,即非奇异.\n",
    "\n",
    "\n"
   ]
  },
  {
   "cell_type": "markdown",
   "metadata": {},
   "source": [
    "$$(c)$$\n",
    "虽然$H_n$是非奇异的，但他的行列式会随着n的增加迅速减小.严格表达式为:\n",
    "$$det(H_n)=\\frac{c_n^4}{c_{2n}},c_n=1!\\cdot 2!\\cdot 3!\\cdots(n-1)!$$因此$det(H_n)$会随着n的增加迅速减小.结合上述$det(H_n)$的表达式估计出$det(H_n),n≤10$的数值（取对数）."
   ]
  },
  {
   "cell_type": "markdown",
   "metadata": {},
   "source": [
    "取对数:\n",
    "$$\\ln(det(H_n))=4\\ln(c_n)-ln(c_{2n})$$\n",
    "$$\\ln(c_n)=\\ln(1!)+\\ln(2!)+\\cdots+\\ln((n-1)!)=(n-1)\\ln 1+(n-2)\\ln 2+\\cdots+\\ln(n-1)=\\sum_{i=1}^{n-1}{(n-i)\\ln i}≈\\int_0^n{dx(n-x)\\ln x}=\\frac{n^2}{2}\\ln n-\\frac 3 4 n^2+n-1,\\\\ \\ln(c_{2n})≈2n^2\\ln n+2n^2\\ln2-3n^2+2n-\\frac 1 4,$$\n",
    "\n",
    "则:$$\\ln(det(H_n))≈-2n^2\\ln n+2n-\\frac 3 4$$\n",
    "\n",
    "最终:$$\\det(H_n)≈\\frac{e^{2n-\\frac 3 4}}{4^{n^2}}$$"
   ]
  },
  {
   "cell_type": "code",
   "execution_count": 39,
   "metadata": {},
   "outputs": [
    {
     "name": "stdout",
     "output_type": "stream",
     "text": [
      "n=1: 0.8725857393654604\n",
      "n=2: 0.1007435153015354\n",
      "n=3: 0.0007269526232094955\n",
      "n=4: 3.2784995813963367e-07\n",
      "n=5: 9.241110735801004e-12\n",
      "n=6: 1.6279956255737285e-17\n",
      "n=7: 1.7925129840043154e-24\n",
      "n=8: 1.233534794009241e-32\n",
      "n=9: 5.305429101524144e-42\n",
      "n=10: 1.4261645723331144e-52\n"
     ]
    }
   ],
   "source": [
    "#det(Hn)(n=1,2,……10)\n",
    "import math \n",
    "for i in range(1,11):\n",
    "    q=math.exp(2*i-3/4)/pow(4,i**2)\n",
    "    print(\"n=%d:\"%i,q)  "
   ]
  },
  {
   "cell_type": "markdown",
   "metadata": {},
   "source": [
    "$$(d)$$\n",
    "由于Hilbert矩阵的近奇异性，它具有非常大的条件数。因此在求解它的线性方程式，误差会放大。为了有所体会，请写两个程序，分别用GEM和Cholesky分解来求解线性方程$H_n\\cdot x=b,其中b=(1,1,\\cdots,1)\\in R^n$.从小的n开始并逐渐增加n(比方说一直到n=10),两种方法给出的解有差别吗？如果有，哪一种更精确？给出理由.\n"
   ]
  },
  {
   "cell_type": "code",
   "execution_count": 6,
   "metadata": {},
   "outputs": [
    {
     "name": "stdout",
     "output_type": "stream",
     "text": [
      "当n=1时，解得：\n",
      "x1=  1.000000\n",
      "当n=2时，解得：\n",
      "x1= -2.000000\n",
      "x2=  6.000000\n",
      "当n=3时，解得：\n",
      "x1=  3.000000\n",
      "x2=-24.000000\n",
      "x3= 30.000000\n",
      "当n=4时，解得：\n",
      "x1= -4.000000\n",
      "x2= 60.000000\n",
      "x3=-180.000000\n",
      "x4=140.000000\n",
      "当n=5时，解得：\n",
      "x1=  5.000000\n",
      "x2=-120.000000\n",
      "x3=630.000000\n",
      "x4=-1120.000000\n",
      "x5=630.000000\n",
      "当n=6时，解得：\n",
      "x1= -6.000000\n",
      "x2=210.000000\n",
      "x3=-1680.000000\n",
      "x4=5040.000000\n",
      "x5=-6300.000001\n",
      "x6=2772.000000\n",
      "当n=7时，解得：\n",
      "x1=  7.000000\n",
      "x2=-336.000002\n",
      "x3=3780.000019\n",
      "x4=-16800.000076\n",
      "x5=34650.000140\n",
      "x6=-33264.000121\n",
      "x7=12012.000040\n",
      "当n=8时，解得：\n",
      "x1= -8.000000\n",
      "x2=504.000005\n",
      "x3=-7560.000044\n",
      "x4=46200.000132\n",
      "x5=-138600.000125\n",
      "x6=216215.999908\n",
      "x7=-168167.999775\n",
      "x8=51479.999898\n",
      "当n=9时，解得：\n",
      "x1=  8.999938\n",
      "x2=-719.995622\n",
      "x3=13859.924661\n",
      "x4=-110879.455202\n",
      "x5=450447.980984\n",
      "x6=-1009003.842517\n",
      "x7=1261255.191523\n",
      "x8=-823677.078197\n",
      "x9=218789.274380\n",
      "当n=10时，解得：\n",
      "x1= -9.997365\n",
      "x2=989.771861\n",
      "x3=-23755.133780\n",
      "x4=240195.714290\n",
      "x5=-1261048.597184\n",
      "x6=3783198.501116\n",
      "x7=-6725765.489567\n",
      "x8=7000357.237863\n",
      "x9=-3937735.417591\n",
      "x10=923673.408496\n"
     ]
    }
   ],
   "source": [
    "import math\n",
    "import numpy as np\n",
    "import pandas\n",
    "#化为上三角矩阵后回代\n",
    "def hd_(a,s):\n",
    "    p=np.size(a)\n",
    "    for j in range(p-1,-1,-1):\n",
    "        if s[j][j]==0:\n",
    "            print (\"错误，奇异！\")\n",
    "            break\n",
    "        a[j]=a[j]/s[j][j]\n",
    "        for i in range(0,j):\n",
    "            a[i]=a[i]-s[i][j]*a[j]\n",
    "    print(\"当n=%d时，解得：\"%p)\n",
    "    for i in range(0,p):\n",
    "        print(\"x%d=%10.6f\"%((i+1),a[i]))\n",
    "for n in range(1,11):\n",
    "    # 创建n维Hilbert矩阵与n维向量b\n",
    "    h=[]\n",
    "    b=[]\n",
    "    for i in range(0,n):\n",
    "        h.append([])\n",
    "        b.append(1)\n",
    "    for i in range(0,n):\n",
    "        for j in range(0,n):\n",
    "            c=1/(i+j+1)\n",
    "            h[i].append(c)\n",
    "    for m in range(0,n-1):\n",
    "        p = m\n",
    "        h_max = h[m][m]\n",
    "        # 选主元\n",
    "        for i in range(m,n):\n",
    "            if abs(h[i][m])>abs(h_max):\n",
    "                h_max=h[i][m]\n",
    "                p=i\n",
    "        # 交换当前行与最大主元所在的一行\n",
    "        if p!=m:\n",
    "            H=np.c_[h,b]  #H为增广矩阵\n",
    "            t=H[m]\n",
    "            H[m]=H[p]\n",
    "            H[p]=t\n",
    "        for i in range(m+1,n):\n",
    "            h[i][m]=h[i][m]/h[m][m]\n",
    "        # 对剩余的子矩阵进行变换\n",
    "        for i in range(m+1,n):\n",
    "            for j in range(m+1,n):\n",
    "                h[i][j]=h[i][j]-h[i][m]*h[m][j]\n",
    "            b[i]=b[i]-h[i][m]*b[m]\n",
    "    hd_(b,h)"
   ]
  },
  {
   "cell_type": "code",
   "execution_count": 11,
   "metadata": {},
   "outputs": [
    {
     "name": "stdout",
     "output_type": "stream",
     "text": [
      "当n=1时，解得：\n",
      "x1=  1.000000\n",
      "当n=2时，解得：\n",
      "x1= -2.000000\n",
      "x2=  6.000000\n",
      "当n=3时，解得：\n",
      "x1=  3.000000\n",
      "x2=-24.000000\n",
      "x3= 30.000000\n",
      "当n=4时，解得：\n",
      "x1= -4.000000\n",
      "x2= 60.000000\n",
      "x3=-180.000000\n",
      "x4=140.000000\n",
      "当n=5时，解得：\n",
      "x1=  5.000000\n",
      "x2=-120.000000\n",
      "x3=630.000000\n",
      "x4=-1120.000000\n",
      "x5=630.000000\n",
      "当n=6时，解得：\n",
      "x1= -6.000000\n",
      "x2=210.000000\n",
      "x3=-1680.000000\n",
      "x4=5040.000001\n",
      "x5=-6300.000001\n",
      "x6=2772.000000\n",
      "当n=7时，解得：\n",
      "x1=  7.000000\n",
      "x2=-336.000002\n",
      "x3=3780.000017\n",
      "x4=-16800.000064\n",
      "x5=34650.000117\n",
      "x6=-33264.000101\n",
      "x7=12012.000033\n",
      "当n=8时，解得：\n",
      "x1= -8.000000\n",
      "x2=503.999988\n",
      "x3=-7559.999823\n",
      "x4=46199.998944\n",
      "x5=-138599.996939\n",
      "x6=216215.995419\n",
      "x7=-168167.996591\n",
      "x8=51479.999003\n",
      "当n=9时，解得：\n",
      "x1=  8.999939\n",
      "x2=-719.995739\n",
      "x3=13859.926897\n",
      "x4=-110879.472597\n",
      "x5=450448.049137\n",
      "x6=-1009003.989111\n",
      "x7=1261255.367138\n",
      "x8=-823677.188040\n",
      "x9=218789.302329\n",
      "当n=10时，解得：\n",
      "x1= -9.997668\n",
      "x2=989.798372\n",
      "x3=-23755.703409\n",
      "x4=240200.928827\n",
      "x5=-1261073.609282\n",
      "x6=3783267.576442\n",
      "x7=-6725879.256791\n",
      "x8=7000467.537658\n",
      "x9=-3937793.484694\n",
      "x10=923686.208917\n"
     ]
    }
   ],
   "source": [
    "for n in range(1,11):\n",
    "    # 创建n维Hilbert矩阵与n维向量b\n",
    "    h=[]\n",
    "    b=[]\n",
    "    for i in range(0,n):\n",
    "        h.append([])\n",
    "        b.append(1)\n",
    "    for i in range(0,n):\n",
    "        for j in range(0,n):\n",
    "            c=1/(i+j+1)\n",
    "            h[i].append(c)\n",
    "    for m in range(0,n):\n",
    "        h[m][m]=math.sqrt(h[m][m])\n",
    "        for i in range(m+1,n):\n",
    "            h[i][m]=h[i][m]/h[m][m]\n",
    "        for j in range(m+1,n):\n",
    "            for i in range(j,n):\n",
    "                h[i][j]=h[i][j]-h[i][m]*h[j][m]\n",
    "    for i in range(0,n):\n",
    "        for j in range(i+1, n):\n",
    "            h[i][j] = h[j][i]\n",
    "    # 回带解出x\n",
    "    for j in range(0,n):  \n",
    "        if h[j][j]==0:\n",
    "            print(\"错误，奇异！\")\n",
    "            break\n",
    "        b[j]=b[j]/h[j][j]\n",
    "        for i in range(j+1,n):\n",
    "            b[i]=b[i]-h[i][j]*b[j]\n",
    "    hd_(b,h)"
   ]
  },
  {
   "cell_type": "markdown",
   "metadata": {},
   "source": [
    "由计算结果：当$n≤$7时，两种结果几乎无异，但当$n≥8$时结果的整数位开始出现偏差，由此可知当维数足够大时不同方法带来的计算差异十分可观.我认为第二种方法更精确,因为cholesky分解计算量小于高斯消元法,舍入误差相对放大倍数较低."
   ]
  }
 ],
 "metadata": {
  "kernelspec": {
   "display_name": "Python 3",
   "language": "python",
   "name": "python3"
  },
  "language_info": {
   "codemirror_mode": {
    "name": "ipython",
    "version": 3
   },
   "file_extension": ".py",
   "mimetype": "text/x-python",
   "name": "python",
   "nbconvert_exporter": "python",
   "pygments_lexer": "ipython3",
   "version": "3.6.4"
  }
 },
 "nbformat": 4,
 "nbformat_minor": 2
}
